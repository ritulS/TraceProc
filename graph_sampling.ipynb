{
 "cells": [
  {
   "cell_type": "code",
   "execution_count": 40,
   "metadata": {},
   "outputs": [],
   "source": [
    "import random\n",
    "import pickle\n",
    "import pandas as pd\n",
    "import numpy as np\n",
    "import networkx as nx\n",
    "import matplotlib.pyplot as plt\n",
    "\n",
    "from tqdm import tqdm\n",
    "from itertools import cycle"
   ]
  },
  {
   "cell_type": "code",
   "execution_count": 37,
   "metadata": {},
   "outputs": [],
   "source": [
    "### TO DO\n",
    "# 1) '(?)' nodes replacement should be done by UM/DM\n",
    "# 2) Remove Invalid tid rows in df\n"
   ]
  },
  {
   "cell_type": "code",
   "execution_count": 68,
   "metadata": {},
   "outputs": [],
   "source": [
    "# Trace builiding code\n",
    "class Trace:\n",
    "    def __init__(self):\n",
    "        self.calls = []\n",
    "\n",
    "class Node_info:\n",
    "    def __init__(self, num_id, n_type):\n",
    "        self.num_id = num_id\n",
    "        self.n_type = n_type\n",
    "\n",
    "class Call:\n",
    "    def __init__(self, traceid, timestamp, rpcid, um, dm, rpctype, interface, rt):\n",
    "        self.traceid = traceid\n",
    "        self.timestamp = timestamp\n",
    "        self.rpcid = rpcid\n",
    "        self.um = um\n",
    "        self.dm = dm \n",
    "        self.rpctype = rpctype\n",
    "        self.interface = interface\n",
    "        self.rt = rt\n",
    "    def string(self):\n",
    "        return self.traceid + \",\" + str(self.timestamp) + \",\" + self.rpcid + \",\" + self.um + \",\" + self.dm + \",\" +\\\n",
    "            self.rpctype + \",\" + self.interface + \",\" + str(self.rt)\n",
    "\n",
    "def csv_to_df(file: str):\n",
    "    use_columns = list(range(9)) \n",
    "    df = pd.read_csv(file,delimiter=',', usecols=use_columns)\n",
    "    return df\n",
    "\n",
    "def extract_traceid_rows(df, tid):\n",
    "    '''\n",
    "    Returns a list of rpc calls in tid\n",
    "    '''\n",
    "    f_df = df[df['traceid'] == tid]\n",
    "    tid_calls = [\n",
    "        Call(\n",
    "            str(row.traceid), \n",
    "            int(row.timestamp), \n",
    "            str(row.rpcid), \n",
    "            str(row.um), \n",
    "            str(row.dm), \n",
    "            str(row.rpctype), \n",
    "            str(row.interface), \n",
    "            int(row.rt)\n",
    "        ) for row in f_df.itertuples(index=False)\n",
    "    ]\n",
    "    return tid_calls\n",
    "\n",
    "def df_to_trace_edges_dict(df):\n",
    "    '''\n",
    "    Args: Alibaba traces dataframe\n",
    "    Return: Dict, Key:tid, Val:list of edges\n",
    "    '''\n",
    "    tids_list = df['traceid'].unique().tolist()\n",
    "    traces_edges = {}\n",
    "    for i in tqdm(range(len(tids_list))):\n",
    "        tid_calls = extract_traceid_rows(df, tids_list[i])\n",
    "        t_edges = [] # list of edges of trace\n",
    "        for call in tid_calls:\n",
    "            t_edges.append([call.um, call.dm])\n",
    "        traces_edges[tids_list[i]] = t_edges\n",
    "    return traces_edges\n",
    "\n",
    "def get_valid_traces(df):\n",
    "    '''\n",
    "    Trace is valid only if Initial node details are available.\n",
    "    Discard trace if initial node details not available.\n",
    "    Modifies df in place.\n",
    "    Args: List of tids in original trace.\n",
    "    Returns: List of valid tids.\n",
    "    '''\n",
    "    tids_list = df['traceid'].unique().tolist()\n",
    "    valid_tids_list = []\n",
    "    invalid_tids = []\n",
    "    for i in tqdm(range(len(tids_list)), desc='Getting valid tids...'):\n",
    "        tid_calls = extract_traceid_rows(df, tids_list[i])\n",
    "        initial_node = ''\n",
    "        for call in tid_calls:\n",
    "            if call.rpcid == \"0\":\n",
    "                initial_node = call.dm\n",
    "                valid_tids_list.append(tids_list[i])\n",
    "        if initial_node == '':\n",
    "            invalid_tids.append(tids_list[i])\n",
    "            # df = df[df['traceid'] != tids_list[i]]\n",
    "            \n",
    "    # Remove all invalid tid rows\n",
    "    print('Num Valid tids: ', len(valid_tids_list))\n",
    "    print('Num Invalid tids: ',len(invalid_tids))\n",
    "    df = df[~df['traceid'].isin(invalid_tids)]\n",
    "    return valid_tids_list, df\n",
    "\n",
    "def get_call_depth(rpc_id):\n",
    "    if rpc_id == \"0\":\n",
    "        return 1\n",
    "    else:\n",
    "        call_depth = 0\n",
    "        for i in rpc_id:\n",
    "            if i == \".\":\n",
    "                call_depth += 1\n",
    "    return call_depth\n",
    "\n",
    "def save_dict_as_pkl(traces_dict, file_name):\n",
    "    with open(file_name+'.pkl', 'wb') as pkl_file:\n",
    "        pickle.dump(traces_dict, pkl_file)\n",
    "\n",
    "def pkl_to_dict(file_path):\n",
    "    with open(file_path, 'rb') as pkl_file:\n",
    "        T_prime = pickle.load(pkl_file)\n",
    "    return T_prime\n",
    "\n",
    "def correct_unknown_node_err(df):\n",
    "    '''\n",
    "    Replaces '(?)' with a random node\n",
    "    '''\n",
    "    sf_nodes_list = df.loc[(df['rpctype'] == 'db') & (df['dm'] != '(?)'), 'dm'].unique().tolist()\n",
    "    sl_nodes_list = df.loc[(df['rpctype'] != 'db') & (df['dm'] != '(?)'), 'dm'].unique().tolist()\n",
    "\n",
    "    rand_sf_nids = random.sample(sf_nodes_list, len(sf_nodes_list))\n",
    "    rand_sl_nids = random.sample(sl_nodes_list, int(len(sl_nodes_list)/2))\n",
    "\n",
    "    # Randomly assign nodeids to unknown nodes\n",
    "    um_mask = df['um'] == '(?)'\n",
    "    dm_mask = df['dm'] == '(?)'\n",
    "    sf_mask = df['rpctype'] == 'db'\n",
    "    sl_mask = df['rpctype'] != 'db'\n",
    "\n",
    "    # Replace UM unknow nodes\n",
    "    df.loc[um_mask & sf_mask, 'um'] = np.random.choice(rand_sf_nids)\n",
    "    df.loc[um_mask & sl_mask, 'um'] = np.random.choice(rand_sl_nids)\n",
    "    # Replace DM unknow nodes\n",
    "    df.loc[dm_mask & sf_mask, 'dm'] = np.random.choice(rand_sf_nids)\n",
    "    df.loc[dm_mask & sl_mask, 'dm'] = np.random.choice(rand_sl_nids)\n",
    "\n",
    "    return df"
   ]
  },
  {
   "cell_type": "code",
   "execution_count": null,
   "metadata": {},
   "outputs": [],
   "source": [
    "'''\n",
    "Clean & Store alibaba trace\n",
    "Extract valid tids and replace unknown nodes.\n",
    "'''\n",
    "'''\n",
    "<UNCOMMENT IF NEED TO CLEAN DATASET>\n",
    "\n",
    "# Extract to dataframe\n",
    "df = csv_to_df(\"./casper_rebuild.csv\")\n",
    "\n",
    "# Extract all valid tids\n",
    "tids_list, df = get_valid_traces(df)\n",
    "\n",
    "# Replace Unknown nodes \n",
    "df = correct_unknown_node_err(df)\n",
    "\n",
    "unique_nodes = list(set(df['um'].unique().tolist() + df['dm'].unique().tolist()))\n",
    "num_traces = len(tids_list)\n",
    "df.to_csv('casper_rebuild_cleaned.csv', index=False)\n",
    "print(\"Num of tids (traces): \", num_traces)\n",
    "print(\"Num of unique nodes: \", len(unique_nodes))\n",
    "\n",
    "'''"
   ]
  },
  {
   "cell_type": "code",
   "execution_count": 71,
   "metadata": {},
   "outputs": [
    {
     "name": "stdout",
     "output_type": "stream",
     "text": [
      "Num of tids (traces):  4439\n",
      "Num of unique nodes:  3092\n"
     ]
    }
   ],
   "source": [
    "df = csv_to_df(\"./casper_rebuild_cleaned.csv\")\n",
    "\n",
    "tids_list = df['traceid'].unique()\n",
    "num_traces = len(tids_list)\n",
    "unique_nodes = list(set(df['um'].unique().tolist() + df['dm'].unique().tolist()))\n",
    "print(\"Num of tids (traces): \", num_traces)\n",
    "print(\"Num of unique nodes: \", len(unique_nodes))"
   ]
  },
  {
   "cell_type": "code",
   "execution_count": 72,
   "metadata": {},
   "outputs": [
    {
     "name": "stderr",
     "output_type": "stream",
     "text": [
      "Calculating NIS...: 100%|██████████| 205722/205722 [00:02<00:00, 80461.65it/s] "
     ]
    },
    {
     "name": "stdout",
     "output_type": "stream",
     "text": [
      "3086\n"
     ]
    },
    {
     "name": "stderr",
     "output_type": "stream",
     "text": [
      "\n"
     ]
    }
   ],
   "source": [
    "'''\n",
    "NIS calc\n",
    "Node Metrics: [type, NIS]\n",
    "'''\n",
    "nis_dict = {}\n",
    "node_type_dict = {} # Create Node type dict, Key: node id, Val: Type\n",
    "ctr = 0\n",
    "for row in tqdm(df.itertuples(), total=len(df), desc='Calculating NIS...'):\n",
    "    ctr += 1\n",
    "    um_node = row.um\n",
    "    dm_node = row.dm\n",
    "\n",
    "    # Update node type dict for dm_node\n",
    "    if dm_node not in node_type_dict:\n",
    "        node_type_dict[dm_node] = row.rpctype\n",
    "\n",
    "    # Update nis dict for um_node\n",
    "    if um_node in nis_dict:\n",
    "        if row.traceid not in nis_dict[um_node]:\n",
    "            nis_dict[um_node].append(row.traceid)\n",
    "    else:\n",
    "        nis_dict[um_node] = [row.traceid]\n",
    "    # Update nis dict for dm_node\n",
    "    if dm_node in nis_dict:\n",
    "        if row.traceid not in nis_dict[dm_node]:\n",
    "            nis_dict[dm_node].append(row.traceid)\n",
    "    else:\n",
    "        nis_dict[dm_node] = [row.traceid]\n",
    "\n",
    "print(len(node_type_dict))\n",
    "# replace traceid list with NIS\n",
    "# num_traces = 4439 ### TO BE REPLACED\n",
    "for node in nis_dict:\n",
    "    nis_dict[node] = set(nis_dict[node])\n",
    "    nis = len(nis_dict[node])/num_traces ### TO BE REPLACED\n",
    "    nis_dict[node] = [round(nis,7)]\n",
    "\n",
    "# save_dict_as_pkl(node_type_dict, 'downsampled_graphs/node_type_data')"
   ]
  },
  {
   "cell_type": "code",
   "execution_count": 96,
   "metadata": {},
   "outputs": [
    {
     "name": "stdout",
     "output_type": "stream",
     "text": [
      "3092\n"
     ]
    }
   ],
   "source": [
    "\n",
    "print(len(nis_dict))"
   ]
  },
  {
   "cell_type": "code",
   "execution_count": 73,
   "metadata": {},
   "outputs": [
    {
     "name": "stderr",
     "output_type": "stream",
     "text": [
      "Trace Metrics Calculation...: 100%|██████████| 4439/4439 [00:42<00:00, 104.21it/s]\n"
     ]
    }
   ],
   "source": [
    "'''\n",
    "Trace metrics calc\n",
    "Trace Metrics: [trace_depth, TIS, initial_node, num_sf, num_sl]\n",
    "'''\n",
    "\n",
    "trace_met_dict = {} # Key: tid, Val: [trace_depth, tis, initial_node, t_sf_ctr, t_sl_ctr]\n",
    "cd_strat_dict = {} # dict. key: cd, val: [tid ,tis]\n",
    "ini_nodes = []\n",
    "check = 0\n",
    "for i in tqdm(range(len(tids_list)), desc='Trace Metrics Calculation...'):\n",
    "    ctr = 0\n",
    "    tid_calls = extract_traceid_rows(df, tids_list[i])\n",
    "    initial_node = \"\"\n",
    "    t_edges = [] # list of edges of trace\n",
    "    t_sf_ctr = 0\n",
    "    t_sl_ctr = 0\n",
    "    trace_depth = 0\n",
    "    for call in tid_calls:\n",
    "        t_edges.append([call.um, call.dm])\n",
    "        call_depth = get_call_depth(call.rpcid)\n",
    "        if call_depth > trace_depth: # update trace depth\n",
    "            trace_depth = call_depth\n",
    "        if call.rpcid == \"0\": # get initial node of trace\n",
    "            check += 1\n",
    "            initial_node = call.dm\n",
    "            # print(initial_node)\n",
    "        if call.rpctype == \"db\": # get sf sl node count\n",
    "            t_sf_ctr += 1\n",
    "        else: \n",
    "            t_sl_ctr += 1\n",
    "\n",
    "    # TIS calculation\n",
    "    t_nodes = []\n",
    "    for edge in t_edges:\n",
    "        for node in edge:\n",
    "            if node not in t_nodes:\n",
    "                t_nodes.append(node)\n",
    "    tis = 0\n",
    "    for node in t_nodes:\n",
    "        nis_temp = nis_dict[node][0]\n",
    "        tis += nis_temp \n",
    "    tis = tis/len(t_nodes)\n",
    "\n",
    "    # Collecting data for stratification\n",
    "    if trace_depth not in cd_strat_dict:\n",
    "        cd_strat_dict[trace_depth] = []\n",
    "    cd_strat_dict[trace_depth].append([tids_list[i],tis])\n",
    "\n",
    "    trace_met_dict[tids_list[i]] = [trace_depth, tis, initial_node, t_sf_ctr, t_sl_ctr]\n",
    "\n",
    "# save_dict_as_pkl(trace_met_dict, 'downsampled_graphs/trace_details_data')"
   ]
  },
  {
   "cell_type": "code",
   "execution_count": 74,
   "metadata": {},
   "outputs": [],
   "source": [
    "'''\n",
    "Stratification\n",
    "'''\n",
    "\n",
    "cd_percent_arr = [] # [valid call depth, % of tids of resp cd]\n",
    "# ctr is used as the total num of tids\n",
    "\n",
    "# Collecting cd percentage in the original trace\n",
    "for cd in cd_strat_dict:\n",
    "    percent_t_cd = 100 * (len(cd_strat_dict[cd])/num_traces)\n",
    "    cd_percent_arr.append([cd, percent_t_cd])\n",
    "    cd_strat_dict[cd] = sorted(cd_strat_dict[cd], key=lambda x: x[1], reverse=True) # sorting tids based on tis\n"
   ]
  },
  {
   "cell_type": "code",
   "execution_count": 75,
   "metadata": {},
   "outputs": [
    {
     "name": "stdout",
     "output_type": "stream",
     "text": [
      "[[1, 0.5406623113313809], [2, 2.3653976120747915], [3, 20.500112637981527], [4, 20.162198693399414], [5, 15.814372606442891], [6, 10.430277089434558], [7, 4.325298490651047], [8, 7.3890515881955405], [9, 5.1137643613426444], [10, 3.8522189682360897], [11, 2.8384771344897497], [12, 3.401667042126605], [13, 2.0500112637981527], [14, 0.45055192610948414], [15, 0.3604415408875873], [16, 0.22527596305474207], [17, 0.09011038522189682], [18, 0.06758278891642261], [19, 0.022527596305474205]]\n",
      "100.0\n"
     ]
    }
   ],
   "source": [
    "cd_percent_arr.sort(key=lambda x: x[0])\n",
    "print(cd_percent_arr)\n",
    "res= 0\n",
    "for i in cd_percent_arr:\n",
    "    res += i[1]\n",
    "print(res)"
   ]
  },
  {
   "cell_type": "code",
   "execution_count": 76,
   "metadata": {},
   "outputs": [
    {
     "data": {
      "image/png": "[encoded data removed]",
      "text/plain": [
       "<Figure size 640x480 with 1 Axes>"
      ]
     },
     "metadata": {},
     "output_type": "display_data"
    }
   ],
   "source": [
    "valid_cds = [x[0] for x in cd_percent_arr]\n",
    "cd_percentages = [x[1] for x in cd_percent_arr]\n",
    "plt.plot(valid_cds, cd_percentages)\n",
    "plt.grid(True)\n",
    "plt.xlabel('Call Depth')\n",
    "plt.ylabel('Percentage of traces')\n",
    "plt.title('Call Depth Distribution')\n",
    "# plt.savefig('figs/cd_distribution_from_rpcids.png')\n",
    "plt.show()"
   ]
  },
  {
   "cell_type": "code",
   "execution_count": 85,
   "metadata": {},
   "outputs": [
    {
     "name": "stdout",
     "output_type": "stream",
     "text": [
      "600\n",
      "600\n"
     ]
    }
   ],
   "source": [
    "'''\n",
    "NIS: Priority Sampling\n",
    "'''\n",
    "n = 600 # Reduced num of nodes (USER DEFINED)\n",
    "# Sorted nis_dict based on NIS values\n",
    "nid_nis_arr = [[nid, nis] for nid, nis in nis_dict.items()]\n",
    "sorted_node_items = sorted(nid_nis_arr, key=lambda item: item[1], reverse=True)\n",
    "sampled_nodes = []\n",
    "\n",
    "for node in sorted_node_items[:n]:\n",
    "    sampled_nodes.append(node[0])\n",
    "    \n",
    "print(len(sampled_nodes))\n",
    "# nid_nis_arr_sorted_dict = dict(sorted_node_items)\n",
    "# sampled_nodes = list(nid_nis_arr_sorted_dict.keys()[:n]) # List of selected node ids"
   ]
  },
  {
   "cell_type": "code",
   "execution_count": 78,
   "metadata": {},
   "outputs": [
    {
     "name": "stdout",
     "output_type": "stream",
     "text": [
      "1\n"
     ]
    }
   ],
   "source": [
    "'''\n",
    "TIS: Priority Sampling\n",
    "'''\n",
    "t_red = 2200 # reduced num of traces (USER DEFINED)\n",
    "sampled_tids_inter = [] # T_inter\n",
    "\n",
    "\n",
    "# Priority sampling based on TIS\n",
    "cd_ctr = 0\n",
    "for cd in cd_percent_arr: \n",
    "    num_traces_to_sample_for_cd = int(t_red * cd[1]/100)\n",
    "    \n",
    "    if num_traces_to_sample_for_cd < 1:\n",
    "        cd_ctr += 1 \n",
    "        continue\n",
    "    cd_traces_list = cd_strat_dict[cd[0]]\n",
    "    cd_priority_sample = cd_traces_list[:num_traces_to_sample_for_cd]\n",
    "    sampled_cd_tids = [x[0] for x in cd_priority_sample]\n",
    "    sampled_tids_inter.extend(sampled_cd_tids)\n",
    "    # print(cd_priority_sample)\n",
    "print(cd_ctr)"
   ]
  },
  {
   "cell_type": "code",
   "execution_count": 79,
   "metadata": {},
   "outputs": [
    {
     "name": "stdout",
     "output_type": "stream",
     "text": [
      "['0b5118c915919476975793000e208f', '0b142ae215919659458786000e680b', '0b51195e15919324875023000e29e6']\n"
     ]
    }
   ],
   "source": [
    "print(sampled_tids_inter[:3])"
   ]
  },
  {
   "cell_type": "code",
   "execution_count": 94,
   "metadata": {},
   "outputs": [],
   "source": [
    "'''\n",
    "NODE PRUNING\n",
    "Remove all nodes from T_inter that is not in sampled_nodes\n",
    "'''\n",
    "\n",
    "def cycle_func(A, B, pred_flag):\n",
    "    # Cycle through B if it's shorter than A\n",
    "    B_cycle = cycle(B)\n",
    "    # Create tuples by pairing elements from A with elements from the cycled B\n",
    "    if pred_flag == 1: # pred flag is used to check if direction is from pred to succ\n",
    "        result = [(a, next(B_cycle)) for a in A]\n",
    "    else:\n",
    "        result = [(next(B_cycle), a) for a in A]\n",
    "    return result\n",
    "\n",
    "\n",
    "def remove_node_with_reconnect(G, node):\n",
    "    '''\n",
    "    Remove given node and check if graph breaks. If yes, connect pred nodes\n",
    "    to succ nodes and then remove given node.\n",
    "    returns: Updated graph after removing the given node\n",
    "    '''\n",
    "    num_comp_before_removal = len(list(nx.weakly_connected_components(G)))\n",
    "    G_temp = G.copy()\n",
    "    G_temp.remove_node(node)\n",
    "    num_comp_after_removal = len(list(nx.weakly_connected_components(G_temp)))\n",
    "\n",
    "    # If bridge node\n",
    "    if num_comp_after_removal > num_comp_before_removal:\n",
    "        pred_nodes = list(G.predecessors(node))\n",
    "        succ_nodes = list(G.successors(node))\n",
    "        if len(succ_nodes) == 0 or len(pred_nodes) == 0: # if leaf node\n",
    "            G.remove_node(node)\n",
    "            return G\n",
    "        if len(pred_nodes) >= len(succ_nodes):\n",
    "            edges_to_add = cycle_func(pred_nodes, succ_nodes, 1)\n",
    "        else:\n",
    "            edges_to_add = cycle_func(succ_nodes, pred_nodes, 0)\n",
    "        for edge in edges_to_add:\n",
    "            G.add_edge(edge[0], edge[1])\n",
    "    \n",
    "    # If not bridge \n",
    "    G.remove_node(node)\n",
    "\n",
    "    return G\n",
    "\n",
    "def prune_nodes_testy(sampled_tids_inter, sampled_nodes, df):\n",
    "    '''\n",
    "    Args: sampled_tids_inter= list of selected trace ids,\n",
    "          sampled_nodes= list of selected node ids\n",
    "    Returns: two Dicts(original & pruned); Key=tid, Val=list of edges to build tid\n",
    "    '''\n",
    "    T_prime = {}\n",
    "    T_original = {}\n",
    "    ctr = 0\n",
    "    check_unique_nodes = []\n",
    "    nodes_removed_per_trace = []\n",
    "    unique_nodes_removed = []\n",
    "\n",
    "    for tid in tqdm(sampled_tids_inter):\n",
    "        ctr += 1\n",
    "        nodes_to_remove = []# get list of nodes to remove in trace\n",
    "        tid_calls = extract_traceid_rows(df, tid)\n",
    "        t_edges = []\n",
    "        for call in tid_calls:\n",
    "            t_edges.append([call.um, call.dm])\n",
    "            if call.um not in check_unique_nodes:\n",
    "                check_unique_nodes.append(call.um)\n",
    "            if call.dm not in check_unique_nodes:\n",
    "                check_unique_nodes.append(call.dm)\n",
    "            \n",
    "        # Build pre-pruned graph\n",
    "        G = nx.DiGraph()\n",
    "        G.add_edges_from(t_edges)\n",
    "        T_original[tid] = t_edges\n",
    "\n",
    "        # Handling broken graphs (~40% are broken)\n",
    "        num_comp_before_removal = len(list(nx.weakly_connected_components(G)))\n",
    "        if num_comp_before_removal > 1:\n",
    "            # select the largest component\n",
    "            largest_comp = max(nx.weakly_connected_components(G), key=len)\n",
    "            G = G.subgraph(largest_comp).copy()\n",
    "\n",
    "        for node in G.nodes():\n",
    "            if node not in sampled_nodes:\n",
    "                nodes_to_remove.append(node)\n",
    "        \n",
    "        # nodes_to_remove = list(set(nodes_to_remove))\n",
    "        nodes_removed_per_trace.append(len(nodes_to_remove))\n",
    "\n",
    "        # Do node pruning\n",
    "        for node in nodes_to_remove:\n",
    "            if node in G:\n",
    "                if node not in unique_nodes_removed:\n",
    "                    unique_nodes_removed.append(node)\n",
    "                G = remove_node_with_reconnect(G, node)\n",
    "\n",
    "        # edges in pruned trace \n",
    "        all_edges = list(G.edges())\n",
    "        T_prime[tid] = all_edges\n",
    "\n",
    "    print('Sampled num of nodes: ', len(sampled_nodes))\n",
    "    print('Sampled traces count: ', len(sampled_tids_inter))\n",
    "    print('Unique nodes in selected tids: ', len(check_unique_nodes))\n",
    "    print('Unique nodes removed: ', len(unique_nodes_removed))\n",
    "    print('Total nodes removed(sum:max:min): ', sum(nodes_removed_per_trace), ':', max(nodes_removed_per_trace), ':', min(nodes_removed_per_trace))\n",
    "    # print('Number of broken traces: ', len(broken_traces))\n",
    "    return T_prime, T_original\n",
    "\n",
    "\n"
   ]
  },
  {
   "cell_type": "code",
   "execution_count": 95,
   "metadata": {},
   "outputs": [
    {
     "name": "stderr",
     "output_type": "stream",
     "text": [
      "100%|██████████| 2189/2189 [00:22<00:00, 97.52it/s] "
     ]
    },
    {
     "name": "stdout",
     "output_type": "stream",
     "text": [
      "Sampled num of nodes:  600\n",
      "Sampled traces count:  2189\n",
      "Unique nodes in selected tids:  628\n",
      "Unique nodes removed:  265\n",
      "Total nodes removed(sum:max:min):  343 : 11 : 0\n"
     ]
    },
    {
     "name": "stderr",
     "output_type": "stream",
     "text": [
      "\n"
     ]
    }
   ],
   "source": [
    "# Pruning Check\n",
    "T_prime, T_original = prune_nodes_testy(sampled_tids_inter, sampled_nodes, df)\n",
    "# print(len(sampled_nodes))\n",
    "save_dict_as_pkl(T_prime, 'downsampled_graphs/600nodes_2200traces')"
   ]
  },
  {
   "cell_type": "code",
   "execution_count": 82,
   "metadata": {},
   "outputs": [
    {
     "name": "stdout",
     "output_type": "stream",
     "text": [
      "628\n",
      "359\n"
     ]
    }
   ],
   "source": [
    "def buildg_from_tracesdict(traces_dict):\n",
    "\n",
    "    full_graph_edge_list = []\n",
    "    for edge_list in traces_dict.values():\n",
    "        full_graph_edge_list.extend(edge_list)\n",
    "    G = nx.DiGraph()\n",
    "    G.add_edges_from(full_graph_edge_list)\n",
    "    return G\n",
    "\n",
    "G_prime = buildg_from_tracesdict(T_prime)\n",
    "G_original = buildg_from_tracesdict(T_original)\n",
    "print(len(G_original.nodes()))\n",
    "print(len(G_prime.nodes()))"
   ]
  },
  {
   "cell_type": "code",
   "execution_count": 97,
   "metadata": {},
   "outputs": [
    {
     "name": "stdout",
     "output_type": "stream",
     "text": [
      "600\n",
      "359\n"
     ]
    }
   ],
   "source": [
    "total = 0\n",
    "valid = 0\n",
    "for node in sampled_nodes:\n",
    "    total += 1\n",
    "    if node in G_original.nodes():\n",
    "        valid += 1\n",
    "print(total)\n",
    "print(valid)\n"
   ]
  },
  {
   "cell_type": "code",
   "execution_count": 70,
   "metadata": {},
   "outputs": [
    {
     "name": "stdout",
     "output_type": "stream",
     "text": [
      "2492\n"
     ]
    }
   ],
   "source": [
    "# Checking if initial nodes recorded is in pruned traces\n",
    "T_details = pkl_to_dict('downsampled_graphs/trace_details_data.pkl') \n",
    "valid_ini = 0\n",
    "for tid, edge_list in T_prime.items():\n",
    "    G = nx.DiGraph()\n",
    "    G.add_edges_from(edge_list)\n",
    "    ini_node = T_details[tid][2]\n",
    "    if ini_node in G.nodes():\n",
    "        valid_ini += 1\n",
    "\n",
    "print(valid_ini)\n",
    "\n",
    "   "
   ]
  },
  {
   "cell_type": "code",
   "execution_count": null,
   "metadata": {},
   "outputs": [],
   "source": []
  }
 ],
 "metadata": {
  "kernelspec": {
   "display_name": "env",
   "language": "python",
   "name": "python3"
  },
  "language_info": {
   "codemirror_mode": {
    "name": "ipython",
    "version": 3
   },
   "file_extension": ".py",
   "mimetype": "text/x-python",
   "name": "python",
   "nbconvert_exporter": "python",
   "pygments_lexer": "ipython3",
   "version": "3.10.12"
  }
 },
 "nbformat": 4,
 "nbformat_minor": 2
}
