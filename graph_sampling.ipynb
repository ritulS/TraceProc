{
 "cells": [
  {
   "cell_type": "code",
   "execution_count": 36,
   "metadata": {},
   "outputs": [],
   "source": [
    "import random\n",
    "import pickle\n",
    "import pandas as pd\n",
    "import networkx as nx\n",
    "import matplotlib.pyplot as plt\n",
    "\n",
    "from tqdm import tqdm\n",
    "from itertools import cycle"
   ]
  },
  {
   "cell_type": "code",
   "execution_count": 37,
   "metadata": {},
   "outputs": [],
   "source": [
    "### TO DO\n",
    "# 1) Randomize '(?)' nodes\n",
    "# 2) Saving final traces to pkl/json\n"
   ]
  },
  {
   "cell_type": "code",
   "execution_count": 38,
   "metadata": {},
   "outputs": [],
   "source": [
    "# Trace builiding code\n",
    "class Trace:\n",
    "    def __init__(self):\n",
    "        self.calls = []\n",
    "\n",
    "class Node_info:\n",
    "    def __init__(self, num_id, n_type):\n",
    "        self.num_id = num_id\n",
    "        self.n_type = n_type\n",
    "\n",
    "class Call:\n",
    "    def __init__(self, traceid, timestamp, rpcid, um, dm, rpctype, interface, rt):\n",
    "        self.traceid = traceid\n",
    "        self.timestamp = timestamp\n",
    "        self.rpcid = rpcid\n",
    "        self.um = um\n",
    "        self.dm = dm \n",
    "        self.rpctype = rpctype\n",
    "        self.interface = interface\n",
    "        self.rt = rt\n",
    "    def string(self):\n",
    "        return self.traceid + \",\" + str(self.timestamp) + \",\" + self.rpcid + \",\" + self.um + \",\" + self.dm + \",\" +\\\n",
    "            self.rpctype + \",\" + self.interface + \",\" + str(self.rt)\n",
    "\n",
    "def csv_to_df(file: str):\n",
    "    use_columns = list(range(9)) \n",
    "    df = pd.read_csv(file,delimiter=',', usecols=use_columns)\n",
    "    return df\n",
    "\n",
    "def extract_traceid_rows(df, tid):\n",
    "    '''\n",
    "    Returns a list of rpc calls in tid\n",
    "    '''\n",
    "    f_df = df[df['traceid'] == tid]\n",
    "    tid_calls = [\n",
    "        Call(\n",
    "            str(row.traceid), \n",
    "            int(row.timestamp), \n",
    "            str(row.rpcid), \n",
    "            str(row.um), \n",
    "            str(row.dm), \n",
    "            str(row.rpctype), \n",
    "            str(row.interface), \n",
    "            int(row.rt)\n",
    "        ) for row in f_df.itertuples(index=False)\n",
    "    ]\n",
    "    return tid_calls\n",
    "\n",
    "def get_call_depth(rpc_id):\n",
    "    if rpc_id == \"0\":\n",
    "        return 1\n",
    "    else:\n",
    "        call_depth = 0\n",
    "        for i in rpc_id:\n",
    "            if i == \".\":\n",
    "                call_depth += 1\n",
    "    return call_depth\n"
   ]
  },
  {
   "cell_type": "code",
   "execution_count": 75,
   "metadata": {},
   "outputs": [
    {
     "name": "stdout",
     "output_type": "stream",
     "text": [
      "Num of tids (traces):  10421\n",
      "Num of unique nodes:  3656\n"
     ]
    }
   ],
   "source": [
    "# types :  ['userDefined', 'db', 'http', 'mq', 'rpc', 'mc']\n",
    "# Extract to dataframe\n",
    "df = csv_to_df(\"./casper_rebuild.csv\")\n",
    "\n",
    "# Extract all tids\n",
    "tids_list = df['traceid'].unique().tolist()\n",
    "unique_nodes = list(set(df['um'].unique().tolist() + df['dm'].unique().tolist()))\n",
    "num_traces = len(tids_list)\n",
    "print(\"Num of tids (traces): \", num_traces)\n",
    "print(\"Num of unique nodes: \", len(unique_nodes))"
   ]
  },
  {
   "cell_type": "code",
   "execution_count": 74,
   "metadata": {},
   "outputs": [
    {
     "name": "stdout",
     "output_type": "stream",
     "text": [
      "Numbers after error correction\n",
      "Num of tids (traces):  10421\n",
      "Num of unique nodes:  3655\n"
     ]
    }
   ],
   "source": [
    "'''\n",
    "Unknown node error correction\n",
    "Replace '(?)' with a random node\n",
    "'''\n",
    "# Select random ~500 node ids\n",
    "rand_um_nids = list(df['um'].sample(1500, random_state=1))\n",
    "rand_dm_nids = list(df['dm'].sample(1500, random_state=1))\n",
    "rand_um_nids = [um for um in rand_um_nids if um != '(?)']\n",
    "rand_dm_nids = [dm for dm in rand_dm_nids if dm != '(?)']\n",
    "replacement_nodes = list(set(rand_um_nids + rand_dm_nids))\n",
    "\n",
    "# Randomly assign nodeids to unknown nodes\n",
    "for i in range(len(df)):\n",
    "    if df.at[i, 'um'] == '(?)':\n",
    "        df.at[i, 'um'] = random.choice(replacement_nodes)\n",
    "    if df.at[i, 'dm'] == '(?)':\n",
    "        df.at[i, 'dm'] = random.choice(replacement_nodes)\n",
    "\n",
    "tids_list = df['traceid'].unique()\n",
    "unique_nodes = list(set(df['um'].unique().tolist() + df['dm'].unique().tolist()))\n",
    "num_traces = len(tids_list)\n",
    "print('Numbers after Error Correction')\n",
    "print(\"Num of tids (traces): \", num_traces)\n",
    "print(\"Num of unique nodes: \", len(unique_nodes))"
   ]
  },
  {
   "cell_type": "code",
   "execution_count": 79,
   "metadata": {},
   "outputs": [
    {
     "name": "stderr",
     "output_type": "stream",
     "text": [
      "100%|██████████| 350980/350980 [00:06<00:00, 52129.65it/s]"
     ]
    },
    {
     "name": "stdout",
     "output_type": "stream",
     "text": [
      "3656\n"
     ]
    },
    {
     "name": "stderr",
     "output_type": "stream",
     "text": [
      "\n"
     ]
    }
   ],
   "source": [
    "'''\n",
    "NIS calc\n",
    "Node Metrics: [type, NIS]\n",
    "'''\n",
    "nis_dict = {}\n",
    "ctr = 0\n",
    "for row in tqdm(df.itertuples(), total=len(df)):\n",
    "    ctr += 1\n",
    "    um_node = row.um\n",
    "    dm_node = row.dm\n",
    "    # Update nis dict for um_node\n",
    "    if um_node in nis_dict:\n",
    "        if row.traceid not in nis_dict[um_node]:\n",
    "            nis_dict[um_node].append(row.traceid)\n",
    "    else:\n",
    "        nis_dict[um_node] = [row.traceid]\n",
    "    # Update nis dict for dm_node\n",
    "    if dm_node in nis_dict:\n",
    "        if row.traceid not in nis_dict[dm_node]:\n",
    "            nis_dict[dm_node].append(row.traceid)\n",
    "    else:\n",
    "        nis_dict[dm_node] = [row.traceid]\n",
    "    # if ctr == 1000:\n",
    "    #     break\n",
    "print(len(nis_dict))\n",
    "# replace traceid list with NIS\n",
    "num_traces = 10421 ### TO BE REPLACED\n",
    "for node in nis_dict:\n",
    "    nis_dict[node] = set(nis_dict[node])\n",
    "    nis = len(nis_dict[node])/num_traces ### TO BE REPLACED\n",
    "    nis_dict[node] = [round(nis,7)]\n",
    "# print(nis_dict)"
   ]
  },
  {
   "cell_type": "code",
   "execution_count": null,
   "metadata": {},
   "outputs": [],
   "source": [
    "print(nis_dict)\n",
    "print(len(nis_dict))"
   ]
  },
  {
   "cell_type": "code",
   "execution_count": 80,
   "metadata": {},
   "outputs": [
    {
     "name": "stderr",
     "output_type": "stream",
     "text": [
      "  0%|          | 0/10421 [00:00<?, ?it/s]"
     ]
    },
    {
     "name": "stderr",
     "output_type": "stream",
     "text": [
      "100%|██████████| 10421/10421 [02:38<00:00, 65.67it/s]\n"
     ]
    }
   ],
   "source": [
    "'''\n",
    "Trace metrics calc\n",
    "Trace Metrics: [trace_depth, TIS, initial_node, num_sf, num_sl]\n",
    "'''\n",
    "\n",
    "trace_met_dict = {}\n",
    "cd_strat_dict = {} # dict. key: cd, val: [tid ,tis]\n",
    "check = []\n",
    "for i in tqdm(range(len(tids_list))):\n",
    "    ctr = 0\n",
    "    # if i in [0,1,2]:\n",
    "    #     continue\n",
    "    tid_calls = extract_traceid_rows(df, tids_list[i])\n",
    "    initial_node = \"\"\n",
    "    t_edges = [] # list of edges of trace\n",
    "    t_sf_ctr = 0\n",
    "    t_sl_ctr = 0\n",
    "    trace_depth = 0\n",
    "    for call in tid_calls:\n",
    "        t_edges.append([call.um, call.dm])\n",
    "        call_depth = get_call_depth(call.rpcid)\n",
    "        if call_depth > trace_depth: # update trace depth\n",
    "            trace_depth = call_depth\n",
    "        if call.rpcid == \"0\": # get initial node of trace\n",
    "            initial_node = call.dm\n",
    "            # print(initial_node)\n",
    "        if call.rpctype == \"db\": # get sf sl node count\n",
    "            t_sf_ctr += 1\n",
    "        else: \n",
    "            t_sl_ctr += 1\n",
    "\n",
    "    check.extend(t_edges)\n",
    "    # TIS calculation\n",
    "    t_nodes = []\n",
    "    for edge in t_edges:\n",
    "        for node in edge:\n",
    "            if node not in t_nodes:\n",
    "                t_nodes.append(node)\n",
    "    tis = 0\n",
    "    for node in t_nodes:\n",
    "        nis_temp = nis_dict[node][0]\n",
    "        tis += nis_temp \n",
    "    tis = tis/len(t_nodes)\n",
    "\n",
    "    # Collecting data for stratification\n",
    "    if trace_depth not in cd_strat_dict:\n",
    "        cd_strat_dict[trace_depth] = []\n",
    "    cd_strat_dict[trace_depth].append([tids_list[i],tis])\n",
    "\n",
    "    trace_met_dict[tids_list[i]] = [trace_depth, tis, initial_node, t_sf_ctr, t_sl_ctr]\n",
    "\n",
    "    # if ctr == 5:\n",
    "    #     break\n",
    "        "
   ]
  },
  {
   "cell_type": "code",
   "execution_count": 81,
   "metadata": {},
   "outputs": [
    {
     "name": "stdout",
     "output_type": "stream",
     "text": [
      "3656\n"
     ]
    }
   ],
   "source": [
    "G_check = nx.DiGraph()\n",
    "G_check.add_edges_from(check)\n",
    "print(len(G_check.nodes()))"
   ]
  },
  {
   "cell_type": "code",
   "execution_count": 43,
   "metadata": {},
   "outputs": [],
   "source": [
    "'''\n",
    "Stratification\n",
    "'''\n",
    "\n",
    "cd_percent_arr = [] # [valid call depth, % of tids of resp cd]\n",
    "# ctr is used as the total num of tids\n",
    "\n",
    "# Collecting cd percentage in the original trace\n",
    "for cd in cd_strat_dict:\n",
    "    percent_t_cd = 100 * (len(cd_strat_dict[cd])/num_traces)\n",
    "    cd_percent_arr.append([cd, percent_t_cd])\n",
    "    cd_strat_dict[cd] = sorted(cd_strat_dict[cd], key=lambda x: x[1], reverse=True) # sorting tids based on tis\n"
   ]
  },
  {
   "cell_type": "code",
   "execution_count": null,
   "metadata": {},
   "outputs": [],
   "source": [
    "print(cd_percent_arr)\n",
    "res= 0\n",
    "for i in cd_percent_arr:\n",
    "    res += i[1]\n",
    "print(res)"
   ]
  },
  {
   "cell_type": "code",
   "execution_count": 44,
   "metadata": {},
   "outputs": [
    {
     "name": "stdout",
     "output_type": "stream",
     "text": [
      "['9653f5baba69c9fb50bfb30a8571eb04dbceaae7c7f379e20bd73a41168a2913', '7695b43b41732a0f15d3799c8eed2852665fe8da29fd700c383550fc16e521a3', '0b0c981da8042a436f30f7d9f7cce74360abe630bd54785016816e10f4d22525', '95a6f7f8345e2eca31ee74ddc19d547e7fc0f5c8e65772d7b08a68eb5214dc44', '6746853e39c5008988baf677bf27c846ee99173cafdec2aa8c949843d3a94b95', '46a6d5047ff9337b34dbdf42c07843d60367ece052e92e004c7dbc3348b3bc75', '2e851da990f42464b9a776942a772cb4911dfca4778b0d3e28dceb3337d65c34', '9cc1113009ea0ec1a4cf99fa6984bd49be8dd026be42921fc6897e5bf121efad', '04940a16b54c3d25fe069d5fa3b209e6897040996c3715a8f684b7dddb1d7ef9', '2abd05990aa9eb81a3eaa333829ec355eaee57fbecc9e8d2e000dde5f4972378', '01d660afcfadafd587e20ec4c04ddbc7eb0de95643ba0eec5fc1aeb15e341a85', '676ca482c56de84046ce1d0076abd6cdb0f25778d036dbbb764581671a685180', '84f9f68ef003a21288fffe8f9a09a5a29b05f4cc4229b8337d1e3c28b6d07923', '24601dd8b36f856eb0a4d759866f475bc62cf843ffe0920e0d4d72ea1e84719c', 'UNKNOWN', '75e56c8fbb9336eb4dd40f5f609d5344203d374d73fd0b8d2bce19f754070f6a', '9a3ef4d24dd4e7fb8baaa9e30aea1395caa50f583630f69047c8e20f2e8d9554', 'b91aa786dae1bcb16f3b077b408d3f1831f733ec91a5c5bbd3c20caf9b44b9e4', '643bce6326e327bb36361c31d1ad0cf9ee8d57671754826bb420a049f051fbbd', '3cab0a98767379fbcd059750c07ec42dbd0374cb114e0f8dc3a75bbaf4eed7d3', '9a9e8613b6d7d1b573ba38dba19eec9c3cc460ab00cb49a7e7bfb0d93bac9262', '63b8a25a4a9f80c7508c0db0d163af6d9e6c0746c9b7e26aeacadee945657501', '091794afdcf1abbaf62404337ff72a38df96c5d8af8bd0d1348b331e84ac89e5', 'c964e78e1ee643babee3c48807207a39596bdc816e5ceb5c766c408648887747', 'e6c95bef37d936ebb375bf135ded88c96eb9257a1d3d9de38a1dbd2751b0fbce', 'bbb95f31b8492d404c35ed4947d32d545f02331d9bf65d4147789bd73f0f50dc', '1bf21ceb4b024afe56aefe9d977a0351b75863ed2e671dd9972f409ace02c664', 'e9916393b398199ef017f67a1904dd9c30323405c6f77cb7e238078d1b550a23', 'c15572753ea100fe93f76f95bbfb5057778c22312180a8163f49de46fb2dba09', 'f0facca9841a7832c38299f8448958df4dceeadb444631f61ec1cedaa3a88c80', 'b58ba81e712e15281eb93074ed026a844f5100024d91b25f2742b5d5e8bedd9f', '4bba5c2371c3384862e69615979c2aa5b7f1b4fc3ea914d070f203f932f87f65', '362b9d733a0cfa0a9faedeb8f4e7f6049b0a389a0fdff2750eef79d36c64baa8', 'e7987964f53ed556a18716264f61e556f24eae462560e95db3bc30ef11c36823', 'de6d543c40695b95f303d7134b72e73fffec5e582f919e30afd3bedd277b2416', '5c5200228afeec02308f5fdd4bdfa256b2245a163b3c81be10d0ecd190bdc32d', 'f6dd51041f831fc49baeacf593ee8789259062f39dd5a8c81d1a318244168732', '1443ce9fa50ad31e3ea4022d4e6ce98a69c537f307e1894680b03a94130d5f3c', 'b226d1a7f7f8526546a4ebb2955fb2bdddb3de88a726a3f43ebe0cb47edaa69e', 'b5363262982f9ddea0e1d8acb112df82fb29117fe56eb6c5b9380d47dc13937c', '74bdd25fc1a1236acfdee2b196cafe1987c84b307dde39e3ba1a52f2d1054492', '20119b0b7869f98acb0f0f7557893474a7b84c34e50ec6dcc6d3afb953758f12', 'ad418f5c26ee81d1276f05bb9dd3ca6fad69efd73afd2a80a52ae93391e14173', 'da5ac969e69381adca65851753b9ed2decfe45094204841584c2c9bdd43cb53c', 'cc0a86659b9b6685ca7640bce44e10ba6aea4ad6b0e056a1c383b95ee2ffa01f', 'edd5edf6fabedb37dc011f2ff1dea0a07350815be8361d081e3e513332c13749', '4fc1bfac21858f3290fc0a0184e6e9f9faf369ed377c1868f81973453b2bbfe9', '9f8edf2b85a2974dafdae8d961043bfa2f2c6e27485a0045bc04d518943d2429', '22fa7dbf2ea1177877261a74131f12850e34ebb1b146dfd822cb48bf69aabff9', 'b1dbd3a649a3cc790fa12573c9c1aa00988e07a8818a2214208b9697238c1b11', 'b2fa85a99de82090b021dd9d2b4e8d05e91f28fa9dfbf6f4cbe181cd0378a61f', 'af42b5e3e0eb334d38619733586d78d1414f6549f24d31b39a5294454638bc59', '0fea36f8ed830148cd67e5dd0037864e44d63574ffc05858b384097f3b4baa4d', 'adc1fdeea203800c5e558bb461636d1c8ab761a70cf01fcda921798096edd78c', 'fce6aaa8dc5be676bfde0247b9b5a4a0a9f5a56b1ec230dd4874d55ac3058136', '3f8b02351d721cd259646dafb620d72c7dc1a9400b27624c27a0d7577dc611e4', 'd3a0dbd99cef0ff255b05ad66d6c56af5ed7b6b507baafa096b22e8b0e8eed08', 'd1b569850f04df209add2bbbe4c8f7b93732b0b5bcf0a4d7b13770e3317fd3d3', 'ae896be7e0f4bd7f5d54226d7240b2c26c662b7332108ed5df922abb7a68bb20', 'd03bb97862607468fe3153b28d41a20de1e3144a5662642b8d4c1062c550f622', '0696938ae3212896c34626b3816d92ca5b0bed0cfda981adc7710d5dae189b6e', '35114acfb54c54fb9618f23cd28bbc57c765f597df140977d7030dcc52775ed4', '4ab265f54516248ee8873be7d6441912456ce17e84f39918e01ddc4210e56da5', 'd09611da4823f4bfdb340db4e8d94161aa789093bf667ec25971d46909c9b59b', '6f83eed1237572824fa0807fb2414de831c989c6392cca51f3364b655804153b', '13c9b5bd246c1d52c953a2f0bcb82b48766c9902747cfcf8cf8457939dec7849', '5ba2be786dc249dc3b3cda596a4d121f55a1dcb75b399d293ec2187a3f0632f6', '6da93e1b8565f05eb7708ccedf9f4a02f1d9a6300bd4e06018289600a7f96cbe', 'b53f8e2c1722bba4f5819ecf0d6d1dc522825977126aee6312d2480ede7889ed', '4d980b8ae1f1da1a302d77ef91b9f9dd4e841856f6cdd4de10df7514456b6831', '0fbb73b083627b69e1b014ee7707e01f197a454e5c6aa95cf14e2fd0d69dbe2a', '908c41be0acbb1c62f968b6fc0ac224fea85e279a9aa5f620cb48a91e4a08d8d', '48786da22f82c437ddc1ce50e34418542feb6906acef278309c837c391a98c41', 'ebaad305295c129a9744a9c5f267e6f3573641422c6491801678b60f728a6f12', '23bdd392279c3f7f575cdcca6c022c7403272aea434e9e116e15901ec787a9f3', '4dd620e520ac12d81d17e010ef3997bd0e6abce62b1308e6c9ef1ec23589ce7b', 'f10612cc80a4777bcb0f9025041b3e4a9d8de8b20bfd2dcb0ab1406cbeeaeaf5', '648b2a0c2f0a2c60f552c18abbc9ac747657751fc8db49d0f18cc6c5f9f81fe0', 'dcd6beb031d8eeb1aa09d7ae2b1e6a69cba6845eab4cb341dc0b7916af4e613e', '73257ee66fbea0ea8b789e1027396c9292d7140b6d5937ad3f79ced163e337e8', 'f0790d6ace012e83995dbc65f27ff34f9c10ab762a1129aa1705e29729173895', 'b85300b3e9775d09e36ec6d23566ad23f30a7dc7e47c7c9e0d749b46d5fc037d', '73eab0278dbf5ccb67f1c303b0770627c6223871c4874f31cdb3dffaee54ac18', 'c22ba45a5c7cd165e854210a624b8f21562487b67f2bf5508bd2d56ca5344003', 'b08b5cc288bca62eeaa415de1c4c5bf5ee48a16c8682afef5a76c6940d514303', 'cefa3691e4565a4d09cec6401e5d5d874675a60e792d426074aa11ce00fe9cba', '6b3de38ce727d7a097829c79b86ae6446afe984f9f45d55949b9e6eb03a51f9d', 'aad206b88466844ad1d958b5f1fadddfee89d1e304b55b3d92ce51bde159ebe4', '2efe35d2f6d12b7556bbb380b33d79374dadbe96ddd52846705b514f777d9a70', '2720b0db4803852457cc9fa53872f47f65f872a476e6f4f54e10e3dc373b6091', 'b79b88df9430ec384ed84c4e800b13952ba3b9eb71a96c7dd8e78f6954da4a3f', 'eb90e738080ac3bb77d9425617909f97ff7c000266c06a22d39b6925ae4f4dd2', '3abce95eb3dbb8e8eefe8e2e1dbe401d53f635b290d5ee74a6250747e1c1d6f5', '719faf5996d9961657ac692193630de32d3c7c976b20314e23e7545e624288f8', 'b1f58b8d82d4898afefa76f48c713e44dffe94cc30fce9bb73f512ab552978aa', '614c66b178d3cfe299b11254ecb4321f85beca4b2ccac893363875cc06272d4f', '1170e7fd04590d18e581d259f7b599d985a813fda9d7747aa05825a3ae6c9974', '379e23daa893e9f183169734b12ee6c2ca81ca05d270a8ded42d4fa1b41fa0b6', 'a72b198ffd0c48db90ecc639aa6cb01edd23b1fc6b519a8c998b645b85d8b7bc', '5a2e74a204f55063afe3c167a485385b660c901a58f136153ee50cfbac2c61b3', 'b6fff9281fd34bade5f2ddc90d5257dda497e6e8b9c62866b8f1da5bc11c5e95', '377f1c6e2b6c3315132d0d8dbd721dc01630e5919f39b0ce4f4afe85c2c4fe18', '715f1d8956bd297093030158d4a0ceb66b2059c815694f1a8da6ec18fe3e2d73', '22335a15ffd8122931d34c48a7c8e04b7c4016546baf8a472dfaf3e405e7b156', 'b6f3db05762621187bfb5833d32b56d90a19c9b688ba5fdc0fef50a24539090a', 'e5155edb237fd9a04d9b322383113d21db13ade01944a5bb6b961a4092d2bc74', '385d6716634806eae637933a023d11d211e465df6f43c82c0b7daf8af496c154', '373f823120ce7ef9b255f7cf6aeb2660bfee31f69a1c3484b8332036b5efe4b3', 'cf5f15ad4585ff713e95993380824a1f0fc1d85792f8dda58f8a150d17c4708a', '2221949268e7ee6bfeb00b01915996ae5e0ce65d715cfe4a8c79f6240cc01302', '59eea9a5f7ed349c30a4bacf4330388c11837d47636845f4d9990634a4eb1c83', 'f86c83e7a535ddb1aa1d5de7b9f049bed3bad1986019e8b5cbd7fa2714f8d4ad', '20160d4adcb079ee0f1c21d4346675780ee91e5fdd586248f84394fd5b3d0145', 'afd9b5752cb8900b45ddc723bffa719b7c3e948a5e5a86b2f8eea53ee69d8e28', '084e84b12d926a8660c132ee79740313111f474f4f0b6b870117d4a7d34eddb4', '30a8da0bf74d650c3aff9df0a7b34ce90b5be01dcbf3adffa06bbc85061bb428', '8fc392bf9ed375f49aa6a6b1093abaecb4ce40369150a91ba7d6136979de1c59', '9ee59483550ea795bc04e930ad6b37b7852e92fa9a71556565e91380dd39de03', 'dcd12288c7943871c82626398763fc1b08dce250000117c097c6bb739d39e962', '0e1f021c1406813fadb553c759a5732d1a40c031ff54ddcb68528b053c728a13', '2be3b98bfce0e36bfa57f93d594bb1e183b434540c5bce38233a5dc2e9b80a1b', 'a9bf1a6021c569b6402b831238c9d176fdae68623afc729dcfa74beded96706d', '111624b7e31ece888671b8b90fe623f4c4ee2b3367064047355c74d7ea1371be', 'ab349b930756ee2ec25c9a4ac09c30e075fb5978c83fe0607f2cec41b1d5042c', '12c6865a894ed83e05522a08835d32c1033d3acedbe60b4cb17974be145374d2', '3557add998c8762136da6e3a0af6489ed6425c3d91ca9e3d513dbf9d2f81e85c', '81104ebf2456207e8b5b096c7909a676386e4eb6654be0c58a704d0b7a6f2b2c', '2dd6bf6f69885debd82960ebe1a51cdb2bb83c0644677a2be64a359a2c710e2d', '137ed80874d1d977a10824e41ea0c78e49a10c6e704328c32a17582d49bbcaad', '0d4e0aa3996cbc207424a87d8ce16610b7694e2fac37d776b7cb66d1469f68fe', '71c606f7c4cc739e61c0ad7b13e4caa09cc28a3d5f01469664a6e811d75e78c0', '6655de1e1f8b90d9f49e942d595b112742780854f994bc84ff7c492f5c8cbe31', '59a9609bcbd8bbf7995db3c435f3d7b6e93923a7a6011bd694eb44a39e4fc09b', '9dc23ef9209e77f1ceb8116aa85de7560a69ef802dbf89d48687b9d0e6222399', 'eb1ad7421ef59662b9d641a5930fdb774f4412c33bfb1e973084ae7e76a781a2', 'a61ab50a28452385eef873aa281003c7064a50733908d89a3cfca077fe8c8d44', '61907af770acd8c9bd15f09fa6836818d41fd772482066415ec59eb6ffaea358', '3b1bccbc2936d1e07c137f3816b0a6e3a1c3597b932c970d170f1d73ee6595c1', 'baf9c4a6e950d5f7943aae4f899a6bcb6725ca24c31537357d6e3af06e9ddd08', 'e3c1c50fc43ff2b1c2d534c616c69dc5321fd706e4286536a314c1b06ae50a48', '48e8faba4a168f803d7f16abb37ff877edd589b8081166d08e1efbb94ae898d1', '37f21f15ffa85dac57941b020a993d3c4682a71ea577a202e1b18bdfca8640d5', 'f5299f6afa1c8101c90540e7a42929dedfe532ddbec8e35df925d2bef610d54d', '1ba37accfe145eb0ac812432bad415d1af09aa9cc7998cb098cabd48d38acc72', '5e5dac309827db024dac61af6d049e07d53538929a3526a56a1d3705f234c8f4', '69bce5bcddf088304c4fc692b6fbbe0a15417dee93a8af89425d2e3dd8c7c330', '2bbca6dc6ba99115e631eba25efc62743aff6d9fe3fe3a9ad209f83d25df926a', '175834ec8169f3bd8afd2382d063d7f4f6815d7c6c88399755cb57b9cad17783', '4e1b6853f1f58091f522c5c1d3c807a4a98f2b8bd0dcbd4b41db58b16067954a', 'e9cb3c60df3af15ddbb2fc90c94d3865bea46eb4784857cba5bfdb2b217306f9', 'eb3f10d45c67c75788ad9d58a79741ab3d89ce76a3415b23c2919a54208bcb73', '4ad4d46adfec436adae4a70984767458338dae1c05d8134a41b003cc1969784a', '69e822e81aba361d6d2cec03457513cad69f91fe253d091cdd0be9c7d128831d', '594b689f6b14487ea06af1eecdd7eaca5e2d244c1778cb53f744c613b04211a7', 'f2c8eceb45e717dcf7ab930e0174e925299e2e8290b07ff8bd630edef085df91', 'e9293802f63781a2e08fbc9de44d542ebd9ddf4a17cf9a9eda13fd72ccc37d6d', '222fb26bce12a45b062ee2476eea504a3a88ab800f17042f4ad2768a48fd79f6', 'eecfe83556dcf73725b216994caf803d385b04e83c0f14c605199f4070127552', '431a07b20e43caa33f909b6d5d82c2c9db736acb47307de11a51324d029c9079', '405aee00c5e425bf82319434855a139a116c7e4dae122af5807be2a73d4a4337', '3ae5b1b2f41b92b684d4f20d62741892bccdb1aaf4ef48b5c2b41f43316fb214', 'fb47daef609beaf8eb17ef3bc1edebe57a8fede3158940ee26b79886d2128739', '709f09816fd402306372d0331095e04b04eff807c8a99e5f49d4a695c6e801a9', '87f3522e7b259f45398e495f02e0afd54d9bd8f77959c6d5e178647ce4e1d9ce', 'd6d9fc487215c50426045c51ecd64ddb8f940aff4a4c28063efba60b31819912', '1be2f367658cec81dbe003c33903988511189f699ae3b6299c780ac91c127d93', '4044a5c14fb439a9de91ea9e75f80d83fcc6c31590f8b490326ebd556a09950c', '091d902a832e3675d674c27855801421f04b9f2c7354b75e723805321e60fd3e', '558da361022f2c54ce6bb02912687c090acf7454f62fda75744147689918f5ea', '476ea70452d5eda7df1535b1817e91f96314662973290c7f4b864e3b9e7db176', 'b991e91fb76628d667220482060968b43bdb29c1e405da6f92b7bc465ac0a167', '39aa05153fe5664a2b35dae3256af5f673d8e2d1d08025ac1e49a04dbf98b649', 'cdb8fd123853e3e90c4f028106bcde60c79506bd52c3feb3726d3aced00b2cda', '248e5b605ac839cfa17243e38bf2be01c010cd6e65e580ebb5da34bc18412cd4', 'c9d968a323dc7eafb8ad6bb25e893b3163eefd0aa2a7c04c69ec7604032f4ba0', '660d45ae66d56b6c65092a0d0878b3dd8830baba912e033d78b8ad53dff57f8c', '3b40e01c9ae51f80a0ec895ca16c9b9a89da1f81ea192bd7207fd3f3909e2413', '3322acdce65a8353e2f8a32a2bf0474526cfc62c3d13289ab64fb6a5e089e2db', 'f9014fe2e1ad08400d71587fd3d9d8d3e19846d8b7e74ed05e237dcc3ac3489c', 'fdff95246ea3376bca21c70c15479f66ec6fbd3ae778f41fedc0bebe22afd137', '4cb80624d7a17ac8850f5d587fde49acfaf38d6b7c206a1163f2edcb4e6e00f4', '5104964773b01933cb2eceb4ad4b03b4e98be37ffc4d3933b8179417f251e89d', 'e0c38088a818a1f206daae6cdd8df07dae8afaf5f8b0092f62081572b24d42df', '515691d0421dedd130a5d03dae7fe44b2167841d679502120c731a57cf75c255', '0ec9f904b51ab73f8b2b9f7f8cd02051219e18c7f88d99253e81c76f8e36933d', '2387b3f417ee8dc3dcd4f6f9572b6552b704b395290f7773ef87d96ac6bfe0b0', 'fd6d86bd0fd550e717c1fdb82a33190a9fef216d87d53532da29f9fb47861148', 'd96f9287c40cd887a6df51d51986ff884863e891e28b23116adb935e0eaf50a6', 'c1578904aa2808f29768e2edb2413cacffeae6069f6cb71471b8160a311b5a11', '7a1c153f334a63ae491e7fbf303162576d0894933eab3d2b772eeaa5775b1dde', 'b377d80cc43013d1b4691acb01ca3bcbf60210096532633968b5bbf5901f9905', '3cae86d116ae110283b2ad8803f1d14a83672faae02976f4efc7ccbead73469d', 'e2147db1a908fb7edb04b502932866a8df617a23c9b6a5758a895696864865a6', '6d430ad304b8dcafd1de32f381686201e2cda1b6deec56f16cf9f3d1101fa3d1', 'c87dbc550c2a943d3e44472303561950225211665e1d0730c232387a95e2f448', '82258f73d09a148db7434d3f68d7094aabc9a12c6f9d5a07ff07f0c67d4f847d', '69ef93481fbbccc848bf56259eab6fe72a86db86d83ef8ad6d9e9c0352a035dd', 'a828cf949747f47b182e8269b324b8948f97330f6104f9d893e40a52dd62b26d', 'a25db459a097f3b6aa173c3ed5dcd8377f2d342c591d6b5a1cf76cc51f99a489', 'f5870687ca34a45aceb2c1ef0c078aeb9e750a5dd08c922f1727770b999d3b3a', '4ba235f4b254662c470d96d1d2dffcc14633858798fb2cffa0246d10d99f92b0', '2837039cc2a885ab18e4c0f4150403dc1b81283e57c8339a540be7923dd612ae', 'aa4a88eca2af630cde76491561f7cdb63336c1bae6267d8b9bf007f64f367101', '5c17bb2b4e1bfb38ccbe6cffde6c49b854800d62a8034349ea5fde6ca8ffb73f', 'd4ed91dc12f98180f01755ea1572934f291bd6e68e10c6f471f7937b7d370015', '554976e3133990d455325966f357eecc403ecea2794f9a542d353b0083e6bee8', 'ba71ef4e6c5bfd2f57e075f02da6b313de6f4628513af2cc887c3fcbdb9092dc', '694c22359d5666f113617ed767acf6a188bd551ffb3c1395ac5f0af99d489cda', '44dde6bd9237bdb44b0fe25dcc5a1943cbcdaf557fed0fd6ff6ec3cedfd709ed', 'a111b0b42fe1afc6550d285cad1c24fc518e926fb7fde8aabb7fbd2980c9ff84', 'e3b9c26003bc9b6499a09f206cd6484201fc1b1c785d64d1704cddd28237886e', '63d958459fcb90c5a5dd5f6c97ee51f4bd496b774a0c4b609ed11e840ecd78e8', 'fa77555fc863a2565d2ed55c94f6ee4a5a194b5375f2915acd9fbcdf806ab64a', 'c023763c547199120799c2c5bffb52047d0f275bf1391f752a02ff074a5a974f', 'bbd25882cd24ffc834cc1ccd8de692424ae669f2ee7892abef00b1e270095680', 'a6393a5d3d36725de4d60b3075253bf1b1e9f52596f9a94776691e868be03090', 'fb1dc665d2cce93dd583d61d9565a6826a8c3ac27075e9a5a79642c896928ed7', '8b9b81965a539e39905ae61e089e027e9b8ce14e74b7013ad66cee65e616456a', '61c5783ad62386f08a1a27482bb472b8aba3e3ea3042e975f8819c197d99ebe8', '463d5a9c265fe101607a0cdf1e7e328409bbe093598c1fbb8cb6af1fc5997c29', '98c6e8764a9816464aa6b10fac3273e2d9066bcae774b8c3208c3e0771a35164', '707f672c5d93d000bde2fb0c118e31021959b12fad0d0cf7fa9d2e8e55f1c0c9', '8229cf0afddf060bda27eb32d12db2635d74725140a5e920137a05e695008735', '3dd6faf7046dcc9eda91fc9a83b4b650abf5bf729a9d89beed7f467dc685a6c6', '274b2f74b20b2b09ef2d76a82181a39a01d56fe94c60beffb98f3fb2764d00ee', '2acfd7708f39b85b3a441f9e804b269630cb72c115c8ac86d786a08d30f8e86f', '04b2a71ec3dd74e350be167d42e742e8b9014248ad22fdb226ca3b88614231cb', '877c8d613d171d6b483acacaa2c78bb2c9ec4f02c9dd765d33b191a10ae48147', '8ca2865ffd758cda9104100aa8a7d8cd23357d17d54621b35fdaa28f77cc68cb', '20539faa5e9e6271087ab706a900d1e854b8ebcfba9ab996ff85efefee68587d', 'c55ff3aa2e4cb4760850377d3135c955182b9924dddd6f0b799098733826eb94', '530a42c55ed7f9999e26fb2b97a2c53d593cda13c20965e6f43b37167c6c7715', '95a9c24648c4754da55afdd47e854bff99381b430f915769c6370ba196af2fd0', 'd9b651fdb16a8efc2ad07a19c94e9da8bf79a19e277a90251d4637a55b0b69fb', '9ffca37e87db8609aa54ef630a4dd204f02581731d323f5a6ae71855b636e2a2', '7497da8ff4d351636204f6873e8e70464ae79ce1313af9fbc1817815e0b83bc6', 'aaee6905e5adc1daa773f911138fc18d48b45274694f183a2dd2f1c85194a7c3', 'b3b7130eda7fa74cdb22efdbddf25c28f5dca36bc346bb97ea639644ed766376', 'c334b391caeb60023a4db9ea0de84ee3348697ef15e68a52c3465f8a8e170997', 'dd048bf3d16301a7fc861667fd6c0a1caa40c120a71bc6ba33bd5ce2690ed0e8', '288f41d523288b71b9c09891771a8e1bf8ff7186e199acebf827deb8a8fc3fed', 'c2b8e526bf09520b26d0982daa6954712e829d3c6cfe180612abfd254f404a1f', 'a363dbdfa5329921e4dafa8dbd07ccdc39cad777f81c254407352b10e550fd6f', '74bbcc1b72088abbd9bd9c30865d5fb73326229b1cc2870dde9a427b1d43d1a8', '16bdd0076b4e37ca60582ab540923214e4959a05dfaf7e993c62472071faf970', '81da45152cce70f229b6fe9abdf8e303a5ec88da52bf60e80b23edb2bf8d468e', 'fca080a8f379d9bdd05d24c69be10f2a2fbc705de0db2cbfe5fe448eeb435c2a', '7e3efe8a09f0ac60c26bf5ad5fa66a83696e4a0f608f890e8485ae7acefe2545', 'cbdf74129c0b13714f7e3d5bc9cedd69e7cbbb2dccfd8a9e4306de64c85a7dd6', '74c45b539907879ae4b74c24152404ec2bd65b9ffb0342cadfe9aff57309aa28', 'f87290912a4ec5e52cb3d492e81c8cb6d88a4cabea57833cb04159c44b86afff', 'a6075f994f957418ae3a5fd20662aad73b0b0cdb259d1af33840ce8ee3fb6672', '6545e5559493a18497075bb949b955abf8642a62d20287e280732e9c5956095e', 'e2350413f1606f6332ee2a2d98f09029cd454b0b216b244314f0f32f96b2308c', 'c243559a33af98c45b86f6096925d8be3936e8d7836dbc7c747133d9522333de', 'bf1b8279a367c676d2176a337fe9fb806ab1e7458ec215d81bb1850d692a6aa0', '2af0d2bb42a4982d4228446b83c8b629222e384458d3ed1a9534404df05c6108', '83513b4566d0923a66bdde3178795d2309f2cbb19d0c45e9ee526de0f6a965ed', '872cd42c399d28c088396ca4ee393790398b1e04f70e0242b9dc9ce998f2ede7', '7d4714938cb6049055e9aa2d784e28b85459cf2a1ebf6fedf654c5351822b1e4', '10824ba980d9f6f6acb662d9bda8928bbc854cc7e5228d3c977ecf2fe8213a84', '0a0a8607174e6f1a42d61559e859dc3aa85a39aa3dbafa9b48509395a0205bf7', 'f084f38ee70095265645cf0e6844023178d3605513a06b5feccf1b972c170f5a', 'fcf19d73e973ed5de66f07834ee47c2240b89477d10da8dbf46592df9f0f54d6', 'c45549fc0c9f6f780bbfe4941586276d3694dc6a54588cea79eecd5b33743e5e', 'f9dd03c1313646739a144e177cb7ab9ed09ba742408c21dfc1c49ad98d3d91cd', '1fea51d078dc143b240946f869cb248fecad18465e741c1e70f59a437ab5c848', '7b3b9cb2faed94c69ae18e8275ec186a4ffe6b2e2588782db56b1481ecf13ffc', 'a4ca9c60a86ad0ce8c305f1c5d75f5853984da0ecb4223f42ae9b05965ccb96b', '6ccea4408e9032ac90c6a55d9d7d9b71d964a3d1d826446ec8a94431df11c40a', '49bcbd92f1c6375b4dcf8b4ccf4b253710e26e0f1b42be1bd7db68f9beb50c57', '6a48fc646e2ee8310a01aaeaed8f411dfc1fe758d98ea98758b30d60ccd5d582', '493952faa889b4b5141601e13c6afaf62c777ca4c54a695eba18879f4e59c243', '5cca70246befb1f4c9546d2912b9419dee54439218efa55a7a2e0e26e86ad749', '3a6e367bb73e903db76ef152baaaeb8bfafe724b7632962e10b0a1c640afd878', '0e337f047a062e592acb1be850542d2ac66829277ec311eed311f21ac96266e3', 'f7e491f55331a45dd8ae05685c2002c1bee48bf87efad684af8dd2b172d60252', 'ea88d9dabad3c403154d6a1740f2c6f79333c2c965ee1c6694ddc3226c4f553b', '15ff67d04e55eff7c4e413baa5c8c35a57a4c1479219ca9e89512e18af10fa63', 'fdf57ec4d0c3bed424071bade6afeee01c4c244889e73150bf71ca2186bb45c7', '8738f7b585302b876bff0dbb5723d7234341f9e6f523c7877f7cff67b48cf782', '9e67e9a1d19e35f3ba361827e2820b93eaf9f403c9384fd832fab559db9bad41', 'b48ec0b744ffc91f0374e5a7130193e97d5956804f2683c34bac0c4d30b846db', '71f724cfa621d8a94e1ced38ac1c57e6fcffa46c26716862cb135056b0729d91', 'f45fd830beee0f5bd5a926cd32b8c7f3e77ee459528f0d9af23ea43c853e19f3', 'a34296b78c6ba5d83767d6edbc2eeb0e03c8b73c8beacb7d680ab9605c70a3c3', 'e7fc61ea3741effab5e5ac0a9e031090ef598551f0390e443fa317811a38e981', '059bad8b12f21ff1a29108baa053f899f64ab9dbd18382d7239f94660b1138be', '12bc3fe2791d9f2946a74114ff349795461e695a099ae3f4fe0f76ea5ce4476d', '1e5dd1f5843e50b9282fb99c58d8fe9c6e3d712d9e601a7a5264ca4ff7d96773', '0464a3b4b7c87a2f05ace2abe0295ca9ecea75887ecc22ac1e4c0864fcf13662', '9f14b8cd62aa14111695d8d170020805e508ca2168604a465ad93e851369954b', '9c2e1e0e2e9a71881cbbf95fab38cc978feee0ba1e7feda5d75847b0896ba187', '2266eb2cd6842bb116acff0d7dd29a7fc911e6770938fbf447fd09aec70bff36', 'e577f5c23c12ea7c998bf41569d9d6a235211c9711cb1f86717e62f0130350ab', 'dc0c230b729e08e4a65a44af84fb82d2126244fb14a0c674daac21308db9ea93', 'b4da54834d8c39bbe6d32e5be59e758770a5c40342f92ac34d940a61548e8fd2', '5ba3bdb50209a9d79eb355d981c4779dc9daed971d68ba05cca494115349e21b', '32c52b5346d9e9f8308e9b24f09261f94e6d7c784652988ef7edcbfaf7f9faa6', 'a2a88e609089c0df6d5b7a458bb1af295bfc0af5fbb6b7ec8970c7399252e3bf', 'a6419b9e9f660445d6d06801a3fecdd9c66acd6d3ba2a263cf42365a6b227745', 'ef8bd30302e6ca87303968d27856a08b95eb686de8f5fc284b553cdd49342d0b', '6f639e16aba857462d1326154890989e23b4d326a5b0dd567d36c6be41e95b6d', 'cc718bfa5ddbce7507f211839771c920ec19ec1ec4c8c9d53ad0aab10e7f746f', 'f765d0662fbe701b90885f25f107ab6528e2feda5f43ceb3d75f4219319ade36', '22a5775b0aaa3121d509bad4d9fbafeff751737cec6d66cead39c9bfac5c4949', '1e4a68579091ad455cebb0193a1cd403c1bf45730baaec627e27faac726c2ab5', '029a32b5baec7e027344c9256cc31b710f2667a9537f30bfb7ccb1c7aeef8d3e', '9ce49672272b4ce8e62bd1739ff631883bc8ea656da1fc4e37c17153ca00b08b', '4cb8110b3dfd082aa0ef52deb1580fc508646530497de9f6c9b4416f0c66723b', '598a97e65a54a523b774f086cdca5be97b32dcd69a16c0cb1efa329c03dd6064', 'b72f2acb9510fcb39c424da5b570f4089ff2d7071f023f3359b2b7ec1752417a', '103f50cb873950444c74ab1b92c007cbfe8eced210268cde0eb8c3a059e7f3bb', '7d0508345ec0970b255fb2a4de1566341ca03e610d747d2abac3685e00462951', 'd72f8b2525f23e21dded52f9125655b608148751b8c23611867c705b1969d056', '34a46b2411bb3230dae8330696d0492becc40d8448865241d15308b2b1f55c35', 'de93367b32ae1873de4c22a944ed1c95cc7d8e082d1ae0350852659c3f3671da', '7a481b9a132c57cae45f19d82be7b758f789203f2c796c6bdd5ceb4428ce9622', '4ee5178dab32c0be6276a49d18f6a950c7e7defe85c17c062ca22259163ede4f', '9663850d46432d24ff8d124100117848337131e85a27855bf7f945e8b2482713', 'd61874578cb3f69b9695e1e740a630266dc9b0b87a60b05cc092c1503e11f896', 'fd4dd8d1b796545fdd9713c77dbe23708920fe29c785a4f49cb572b4c1f0e8f5', 'd2a5323b2c436164b496a8d45acb7acdda73926f9e92daf5d611b1836dbe1442', '6fe1d3922579e40843c2fab13de2bd2adba1a46761c3b69122b0261146b982c8', 'aa42d395e6b2ab2146c4f60800b1463b0b4eec59147ff583052172e947b3dc53', '9b9f73cc670dcb7b85e2575cead98f5aec678f234c3433d06fa22b49e5f246c1', 'e7d99e0be4f3a1d3633512c8c2f7adc4be67a0b1e0e7216a1aff326012a3e381', '010ce13a243ba0b5827e52c355f0dbd86a102f07a67c3e0cccf2914c3becaa52', 'b506b6dc2480a160adb12451a5bbc38ee7fd2d401e44e72e8bde4249e5af1d00', 'e95a05d2a98f9d7d5b7241d7e39a8a09175723bc6ee8ec5fe87d2dfa8bbe99fa', '0ee4e2acc672b91b0422915afe086a00dcf3af6fcfb0fa97c727d0f3a5de4f6e', '91794c6c76372cffc8c1b96796df4790b0f04b3ac8d340a44637d5f24e46e6ad', '726090a08973bacd2db880cd337d9754e280ed9ce968e7a466107231fedf991e', 'bf3564a20dd84d248c1927c740a64461f4cf919b114bd6a617720e683ce5ca4a', 'ec136d160e465586f100e087bc1ba47836625e4deab333ba49f57317a1c7145b', '7634eabb934a9c9504b24483344242f6e060f8599aa48d6500b13e20b7d35b7b', 'fc37f90de7a71bd9ab1efe8db3fbc2194a2761937a8b0440e2702514831a0401', '59a9c02bb71a62c8837dab1ba69b0ad3e9e38399974a661661b672c5dffca555', 'ad267e9e23ab4438dfe69d3c6f07877dc3c1d93b1c6aa0fcdaf4e389f28de1fe', 'd54a2729307ad61ba178cf84e86a3b5b0a138dfb48c1caf6e9bb1749c5371573', 'a9b4c14d35fe57da819293a68d49dba4cc0e8c2c4290acfe6f0da261638f1b11', 'ecaeb1a5dc1247c9232ec7cebc30f5e2153c41eb67de831ddfea81817331fdfc', 'ef3aeb7c798f86c17951651a64a7ba02b1a6995ab7ea47ec23076c8563175abb', '1e519919c56036887d0cc95d995a537e86f22217bc46c2500b6598c852857697', 'd04b64134dc17ee66e65a273fe82ca1aa1272251f0e29831c07c0dfc9d09b795', '7e727c729dfb4c78de6f9f3a2cc1543996d9425030953297eca7291e706477d8', 'bc8ee963d3744cc490e9fb75afec09e94f86eddd5c60386ca5dfc4d84efaf0fb', 'db13ba38f17e1769768705476e963dffff4d7d4c279b19d9057639f06ea6446c', 'fe73c786b83acc0b1bdba1b83f7face365bacd4431fee898ef275d83fb45ea3b', '9db2b33559de5c955d8583df93bcd23f612e0b587a6dcd1a9e0859d79396e0fb', '2281df76fad9b13f700e54a38b309b194eb60567aa2bd2a7cf9f0770fb61e78a', '0e57ea64276196cae5982f954d28bf5a24da7507cf88e3a3f33d6bfd6d13db3d', '73f6d8a8dceebd7475a100eab899082be5f8ad2234356908f32e8aa84b71eb55', '22c8ba984fe2f64ad6b7d8a8607dee4573f0161abfd3cbf9018c4bbabc682193', '8ba6ba4c12e41dd18760bf34ba954a488d0d8b0067680edfa820d7a4a488d7ea', '32b2c1c7945e9ab6bea09f7bbd6fa3e3476d318b921d8e7052c9d31324fc2243', '583d27f15062079d55fc47150474b1d6445b0fb313c5ba372e47f0696714a0f1', 'adbff21adea71ab062e6c9929004bcf428c54d51cd828a7eeffd720fa5cf76b3', '75d66fabc4341146ed695c5d0376f632fe55a979d41cf36d1f718f7e74158f70', 'd691a6d673a98c43b7d2ea36e3300823d673dc2c718df9c827314160fef73dc8', '1c8c35246acabe50614e77fda030e41dfd027163b29f2cff86f94fef74c93fd5', '576b5a6ec5474c5ae0c272362b6c1ca8d36c7c3d9cef298ac0b301cda96ebf10', 'c071cc41414b228c040184536eba0e6d26669572bfaed9922f35ac114db9ea56', 'b839a552a3ced93f3f38e355fa77af4bfbf8135628d5fd8f34191fe4b8eca674', '109298b0af3961105937ff48abf505151a894eb8ea15befc52cd68d96c94e013', '1cfe4ceeef28457e20cc3cbe4a1171e788ca3e87e84fa785b7f0e93118cffd22', '3a93817a680949d1559d42eb0e7d8184f885f6110a47289d296cd78be7dc2387', '85e7612d027bbc04f84abd71f82e1166f7f40ae3727fc43dee5a1b9912ce9320', '3d03e32921c532ba8ac3e929184297e86963d92b23994885bf360b1308ffc653', 'e52d5fc94fcd5789760035c762162a09442c83f344ef976be8cc0ca8f836e021', '66bf8c0838d2c7f2cadee949b4b1b2056b18f3496e4c0960fea0dda5bb8ce30a', '4bccda541e7ec0f7552c42b3975a481fb5f8ef0a583087b483b5ee48a6383539', '67d018df0f13929dce61defb57b7015d3947944ad9f200e8f36fe6ee9c4ae506', 'd4f7a7b5230001101298bb263b4f74f6a48e00d9fc7ed09aef3f07b849962f81', '7342125fbf7419f3c10c226acf309471c3b4eda89eec13eb62b9b43406d7f546', '3b8c57e8412ef85a044b4b02003cdc715e3bba9a0a39f11f35a7e85140c74ba7', '4cc769b82bce6117200b9129d275bf637ec516e7001cfae1a6d0b7d7cd16019a', '3def73641a44787e3b503c7a5fadcb07fa70f2b23e209f27fd40076ab21ccbb2', '2593a53415bb89997711b2c7c4e5c7887630455ffd779ac1b079ae4a56f16e80', '24b40e1f85ac43aa9500246a9597f7628702a1172c79fca706fe829dc18c57ce', '5a8c45642b6ced608bc510a7f2a389c732670e5d7e6649828c779c90f6621f48', 'e243b72c702bbccae24a4b39ca44b91c40c32eb6627b98209f5f21568a4e5316', '23e1c91eccb7478c03be1c60087992200e544b0ad63c96b062bde8dede1bf5ee', '84a652246581e7ac111e7d84bc1d632a88b880ea5dbe701479e5f2ca5b9bc78e', '7aab1dda4b377cba081bcf66eeace815528e8f2f12d62bf9c9eccc657d81640e', 'fffef77bab8bf83690a02ce39dcc1dc9ecf398b4e4b2ca807182dc21a976a940', '3b3c19b8db7dcf7bf8fec6b3a45d2218a98cea2a5f87afe55bae558b60fe0a3a', 'cc89071de722ad78455c531ebeefab3380ed933ffcd0c860505ed7d9ad16fcef', '8a2b16de999f775ea1b2f25061cd48c308542fc4394bc0664d4e954408d68e1a', '4761b18181da4729aa5a72c6b745428a8ae24fcee2b669b2be1428268b291622', 'ca43d1f2ea299b9b42bc6e93012b318adbefeeac621c82ef732fcd0241465d62', '6e1b4544276676679c0e710dfea78e737d8ec99d0e4e114fbc85628ccabbaf17', 'f900f99db6aab6d87e8cdfe0e5fe414148fe53e391fb13655c4668e71b4e8db5', '672b13877ae01745ec085064409ad377150789569f5c84b80f00d69af39c42a3', '21705398bb3676fd8030ae07c4891ae0031a96c648edeff236c85de40c026791', '36de62783b77b35783dc8f5212c0b1c7d3a490be3ed692e25e73403461433f4e', 'dddefb46d83e18778741dfc5426682038c392ce1012ab650499892b0556cfad7', '1a144a2877aeac30613c14ada95db893c99ae3bafbd892eac4f11e5015e437a8', 'ea54172e90c2bd105eb2df1b552b8925a0f7463561fc5135c0038d92266c85c5', 'bab0e5cf94353570427d95c54870988a5fb77300439e57dd113ad28fd530577d', '797396c7b162c66b9bbaaa81605e64fc8632d9c0343584d6b05b200a35e52aa6', 'dc206b48a31db1afbbccd431dc22ae84da88c01be3c927e0e77889cbaed88021', '2b91b00c672bb57bcd7ea4f5ce3d380a1b80d1ce98b2f709eaf14d2edb60b60b', '740495e8cf3c6bd135207125b65ecdd960267aa1c4e1978577a58ccac5c88667', 'b9cd738796c65f098f30d11970e5d26be3e5be9466847bbd9cbb851a47b020c9', 'fec250ce67ec0c132a6cd093cb0adf8be53faacbe873e1f7234ff4966f5a3f11', '9322887398d50ec9bddddaf0f9bbbb0c20d964dcda2118b0f7f8a9c19c6f0045', '46f83c49176f172607b2737ac30ee3f6dd0bdf90da90537d7d0d237412edf437', '3f7bfd7bd36c32e6b667151e747c6c5f75a3ec9d5a53970ba039f7d10e34602d', 'b0a9c9ed69944db361b8d04bd625f5ab50347aba98d8193e69d9327d219bf07b', '3a4df29824722fcab9174fc33bd58b23846ca21aee6286631100a945c02d8fa4', '653e9a2892944ec827443b30e628b4053a7e72c31223bdcb3c74f29127911c1a', 'ec942ea8011cff8618c5fd69b734a1b5e5d05e47177a4ecc4da6d36422f8d0e2', '803b003f7c18e5f655b75264079645c9120aba02a3672bc0a7cfd2cd3c2bc31b', 'c4f89824e6f316c6965f01c44e5f6418b62c88addeb57f40fe3512b81b1cc560', '7d3e8cb5214f2c510dfeae03ba224668d0870a1ee63b3f4187bfe8fb1568fa75', 'ebbe580a9531edb706cbf448ab3a1efac9f8860901c6114cf2da9a785eb86fe9', 'f16cfa8ad3b561a692bfe5dcea08cfca6f8d488333b161d2423d5fe8d9d82e0f', 'a494504ea8d4e92451e1dbbf3ee35fb130529c72ec1b0164e190ab9fd1408d18', '76c02b1a53ba5a8105f1bb141673f2d17e2bfa9a929b0f7ae512ac9f495307bb', 'b654ed6ca503c46bec57a80930f193602c1d7997eb8c7e13e7a6fd67c410519b', '5aefad73e20ae83cd0bf473107dd290e74f9a8b12aa6bc57269046c58ece7a1e', '4f0b2dc688235ad8498634f4aa849aa4906cfcf9c3eb4b2ea98f9dd7f0832166', '3d6673105b7850d8b917bad14ffbace2333a6f34f6395f56360347e6a79bda4f', 'a76e7792338e076154f750a65d315acd2795650548392f4ec033a97133b2ab25', 'bd60497bdc74d1c37bed34adc5bf20df15b378dd863baf0a2c35fd36fb28cc66', '664b8e8494b6153cc7ce4335d051b96bdaff8f0985b868beebd8cc7b984c480b', 'cc3638da831cb5785a124ecf00b8ff689db59f083c959dd1aefa202cdc019ce6', 'a824c72ab4c8688f44cbbb2b78177322c649be1431471946bd98c72bbbd27a54', '8c70f564c11c4223260ba02a7d4923b60e55eaf85aec58ea62464313ae21f6be', '63c6c27797f45a20f83cd17ddb47d4c8aefe757ec81c4b990cef08bd6fb9c4f2', '485165dde0452583598eb3d75e3e29fd9b6279b698cc371092a78301ac47a27b', 'fa3ba7a04f86ee8b32783a3ed2ce00ce5c6a52a3ff7198f3ffe56757936543d2', 'a89d23f5418e540189a2403b4e939b9993c3a98627d48e3577ef0594d0c83261', 'dfea0d1cdd0412fd83f66cf73a0bae5c8e351c54bfbdcc3e43de3b83aeefeb06', '1ffc957c343fe52131b99d557bc81b9114b5ec054b654c3f500c7c0c0c14c1d2', 'f63b700c9430f0443d650952acf54c50965f75103d125af1cb9c4faa32e83cb5', 'b1b0c76106b7bf0d14d80456bc96eec7803e0931338b1b405730a20a028f0f36', 'bc3ebe317f61ac7d2cfe41efbad7db7d19313303d89e7c08858d386ea37c50fd', 'e562b40e5b599008282b4a66ada30baf58d92ae93bec14de907cd1e64c4e0736', '48133d275ec11ebbef232ef0378ae14dc7248bd72281e5d2899dcd160462baf0', 'e5b95cb4a294ca8b852a217ac602f69c266e6b0799d399a2fe9dbc386cc845b4', 'f2514d7453208c36149a97c328f3e60649455eb199bacdfadefe1cef951a55ab', '6f63ebaee8ab876fe1a319329f49d5a4230ea59dbae6e08bb93d3dcafc156d11', '02bc4b3ab9273901ec7e2c60ec92eb8a21df4d788b051d77d604932d414c5e98', '53944e9fc1173f3269fe4a7bf1244e294f6ef0d15e6a71d667f55126928ef200', 'b42b2e1aba4db4bc92b70512f10e0874534d37d8a671e6a23b9a8ce01049601f', '03b88869a075b84b3c64ae7ac87703bcb3f679c9aedb72c66ae60cbf9cc90fc5', '4abb3e987ead2d5746dc6e12ca928c2ca528b127f2595e09cb8f520cfc88070e', '6190227e8489cba622c6675f26dbf94a0407dc21594d0dcd6776c46975b7e225', '996fa80cb12fd2370df660953b3a46231cc31b8706e70be90de49447d8b86ac8', '5f876a7340841ba7d9021abcfe009ff7179ab83f9ccf32c2ab7513397d345744', '5c383e846d2c99c6db20ce111e9a341c1622fcad881401bad71e782d251f9438', 'f65aa2861ecf9d9507a6ea38c4fd8d60811926246fd1608bf0fba1b2d49328f9', 'd580d5be3ab3e37936ca1df82734ccfde6a884bfcdda7728f86d8ce9ecd0ee53', '5976ad55429dd27137b857a194264e2dfb89905db2355471252a2d8315146101', '667a309396846641108a11a8a49f7383fc71631b3cc37c65321233133c0bf3f4', 'df8947cffa107dd0e0f0aff1f2efe3f2b49b14d423383f305a807091a6c9a2b3', '438b14446c0786eea74939c9124cda5703a287ad7ec9be4070deb15f22218ab7', '0993061afc84936e8e92508c7a754eb34c86c47042c802d68f06e25627c3fd53', '4025af8a2c0f356ff4bad70b05c4c61757661db8436a8c3fd59e28231044a5ae', '21b878dde7dcfe1b0f1a11a074fe02aa2d225d2fb486dd42d07871e91d1035bf', '1cd5561b9a230cd8e4ee449176635a2ad2fa75873513fd2b3e37f7801d43c4ec', 'b0ac264f31fcf1b5cdceeb08a2dc6c2d6bcfe0ad38749a80c94b03f75efbf6fc', 'f7ecb8c10ba89e578ba55c08f07126dff683116c23e204ff50e138043528e088', '8f8da7913c052992423534e5b9f49e72b4213ea8fd10db4a5aa186a7dd121420', '563ba0438604c5d768ab2d699269c73916815ee8d437abf4e865222046c994cd', '0132c76602caabd29f1019266695ff2fc1d267f00f17bdfffb9ef84b46bbe32f', 'c324e55ea47d585de7059efbe49a16e0abe1ae3c18d65d73d559dbed054b67d3', 'f138108ba795397cdee8f700c77322b1318f8026c3f4d387beb6aaa2f14d8b80', '6ad06f6c5f043beed53489c747cb3a7ba4cbabd28a4fe8bf0715c873e8a591cf', '84c39f0f7578db67ef592c81d9d0b4850caa4f68725cde0fb1253d2b254ef6ff', '08b12b338aa0c21e4eedd165139e519aac97ac9dc3da59fcf07e145dc4225101', 'ec6029a23b47b623f4f2e8e6485574b1224a8f6f1cdc1c10099bf3dfd1c5edb2', '7f01276c784456b923d434783f7d01f0a520d868c8fb4d77a399c3f980b28302', 'eb7c484af426ac4fb8ffeca5c0a18cb2acb335f98b3c93ddf19803fd3ce2212a', '661aee0264b6e35ddd5edb605440a8909e2291f131beccaf24a6831fcd3b6906', '9aa8cb66281589fab9b43b74b0b41317f990895b53bacfcf68c1b12ee427cd57', 'f5308cff98dbf1bc738d53a390c20fc16a1ba29076fbc664b989ba9f4a6d1a49', '678850bc90f0da054edffc4e68e88983ea92d7dd94f9d6484af55330dfabdbc0', 'ad927111077d6d65832a33ec776917ee2f1c2f9f03c056a69fefc936ab2f979b', 'b718a8b65755e2e2f1f6b0b7fdd9eabf36b2f8803ad935bf967fd7bc0e78edf4', '2ece827ed47b750bf644ac37f96bfdc2e7e3d0142bc5813fbb0a518fbbcbe597', '57ee5b45172bf412c66c61a0ea3bc4b4b42573d4f214e8f835764f7d511d5a58', '8214a70dd137bce23f10bf9f72eb05fc25530cb2ef1cad0984db459d4ece5930', 'dc334ccc515468986795752231adeea494726f9ce63460eb1662ee82d21de0a1', '0e196e772ff517533a7396537ab970729fbbc9ae2f5685b4e38ffcd9b185d392', '4d34d75ae54f972aadb511aae713c94c95cf86e3f6ca13920da4fd47c5b51f86', 'deeea2e9157048f6c5c543ee6f1c40c96c92b18d0ce6234ead06f2bea9aa4cdc', 'ae794cb564215f15da0102e9547a49c786c52145288b16df3fc07fab426085d7', '400ae661b3f73be517158bd88472e2c9ae16996732ad4cabd343542ff1e4176f', '02bb03429fd7f79d5d8acb3b7f3f82e0f0ce949cc8f812638c90470c7ff957f4', '85fb296baeb19fc32c446b044b788186f25c6158f8f4cb1a29547143d69f2089', '0fa2fcfb8fbfd11222c0243e9bf61e706b1cb82dca1aed8f4cc08358b1cbcdf8', 'e8a3cf760220122c06ada381158decdaa3550985752bbe3e71509e7303c1366d', 'e845cc423a676d6789697de9ca283b123e4c846b0a3246067487be792a57f74b', 'b4ff00561f6429c0809ac95962654292d47ea79fb91daea0c9235196952447eb', 'fb750d9e38225fe305f254bb00cfba22138845328abf1564dbda306910bd66a5', '425c2c79f1b668ac6bd3911fdc629d271a5d6fdf4b35866fabc1a99e7cf549d5', '4bf88eff4c1f8cbbd087ed3c395892c0a1bc6374ff5e4b9cb2562b76680d5568']\n"
     ]
    }
   ],
   "source": [
    "'''\n",
    "NIS: Priority Sampling\n",
    "'''\n",
    "n = 500 # Reduced num of nodes (USER DEFINED)\n",
    "# Sorted nis_dict based on NIS values\n",
    "nid_nis_arr = [[nid, nis] for nid, nis in nis_dict.items()]\n",
    "sorted_node_items = sorted(nid_nis_arr, key=lambda item: item[1], reverse=True)\n",
    "sampled_nodes = []\n",
    "\n",
    "for node in sorted_node_items[:n]:\n",
    "    sampled_nodes.append(node[0])\n",
    "    \n",
    "print(sampled_nodes)\n",
    "# nid_nis_arr_sorted_dict = dict(sorted_node_items)\n",
    "# sampled_nodes = list(nid_nis_arr_sorted_dict.keys()[:n]) # List of selected node ids"
   ]
  },
  {
   "cell_type": "code",
   "execution_count": 45,
   "metadata": {},
   "outputs": [
    {
     "name": "stdout",
     "output_type": "stream",
     "text": [
      "7\n"
     ]
    }
   ],
   "source": [
    "'''\n",
    "TIS: Priority Sampling\n",
    "'''\n",
    "t_red = 500 # reduced num of traces (USER DEFINED)\n",
    "sampled_tids_inter = [] # T_inter\n",
    "\n",
    "\n",
    "# Priority sampling based on TIS\n",
    "cd_ctr = 0\n",
    "for cd in cd_percent_arr: \n",
    "    num_traces_to_sample_for_cd = int(t_red * cd[1]/100)\n",
    "    \n",
    "    if num_traces_to_sample_for_cd < 1:\n",
    "        cd_ctr += 1 \n",
    "        continue\n",
    "    cd_traces_list = cd_strat_dict[cd[0]]\n",
    "    cd_priority_sample = cd_traces_list[:num_traces_to_sample_for_cd]\n",
    "    sampled_tids_inter.extend(cd_priority_sample)\n",
    "    # print(cd_priority_sample)\n",
    "print(cd_ctr)"
   ]
  },
  {
   "cell_type": "code",
   "execution_count": 46,
   "metadata": {},
   "outputs": [
    {
     "data": {
      "text/plain": [
       "490"
      ]
     },
     "execution_count": 46,
     "metadata": {},
     "output_type": "execute_result"
    }
   ],
   "source": [
    "len(sampled_tids_inter)"
   ]
  },
  {
   "cell_type": "code",
   "execution_count": 58,
   "metadata": {},
   "outputs": [],
   "source": [
    "'''\n",
    "NODE PRUNING\n",
    "Remove all nodes from T_inter that is not in sampled_nodes\n",
    "'''\n",
    "\n",
    "def cycle_func(A, B, pred_flag):\n",
    "    # Cycle through B if it's shorter than A\n",
    "    B_cycle = cycle(B)\n",
    "    # Create tuples by pairing elements from A with elements from the cycled B\n",
    "    if pred_flag == 1: # pred flag is used to check if direction is from pred to succ\n",
    "        result = [(a, next(B_cycle)) for a in A]\n",
    "    else:\n",
    "        result = [(next(B_cycle), a) for a in A]\n",
    "    return result\n",
    "\n",
    "\n",
    "def remove_node_with_reconnect(G, node):\n",
    "    '''\n",
    "    Remove given node and check if graph breaks. If yes, connect pred nodes\n",
    "    to succ nodes and then remove given node.\n",
    "    returns: Updated graph after removing the given node\n",
    "    '''\n",
    "    num_comp_before_removal = len(list(nx.weakly_connected_components(G)))\n",
    "    G_temp = G.copy()\n",
    "    G_temp.remove_node(node)\n",
    "    num_comp_after_removal = len(list(nx.weakly_connected_components(G_temp)))\n",
    "\n",
    "    # If bridge node\n",
    "    if num_comp_after_removal > num_comp_before_removal:\n",
    "        pred_nodes = list(G.predecessors(node))\n",
    "        succ_nodes = list(G.successors(node))\n",
    "        if len(pred_nodes) >= len(succ_nodes):\n",
    "            edges_to_add = cycle_func(pred_nodes, succ_nodes, 1)\n",
    "        else:\n",
    "            edges_to_add = cycle_func(succ_nodes, pred_nodes, 0)\n",
    "        for edge in edges_to_add:\n",
    "            G.add_edge(edge[0], edge[1])\n",
    "    \n",
    "    # If not bridge \n",
    "    G.remove_node(node)\n",
    "\n",
    "    return G\n",
    "\n",
    "def prune_nodes(sampled_tids_inter, sampled_nodes, df):\n",
    "    '''\n",
    "    Args: sampled_tids_inter= list of selected trace ids,\n",
    "          sampled_nodes= list of selected node ids\n",
    "    Returns: Dict; Key=tid, Val=list of edges to build tid\n",
    "    '''\n",
    "    T_prime = {}\n",
    "    for trace in tqdm(sampled_tids_inter):\n",
    "        tid = trace[0]\n",
    "        nodes_to_remove = []# get list of nodes to remove in trace\n",
    "        tid_calls = extract_traceid_rows(df, tid)\n",
    "        for call in tid_calls:\n",
    "            if call.um not in sampled_nodes:\n",
    "                nodes_to_remove.append(call.um)\n",
    "            if call.dm not in sampled_nodes:\n",
    "                nodes_to_remove.append(call.dm)\n",
    "            t_edges.append([call.um, call.dm])\n",
    "        G = nx.DiGraph()\n",
    "        G.add_edges_from(t_edges)\n",
    "        nodes_to_remove = list(set(nodes_to_remove))\n",
    "        \n",
    "        # Do node pruning\n",
    "        for node in nodes_to_remove:\n",
    "            G = remove_node_with_reconnect(G, node)\n",
    "\n",
    "        # edges in pruned trace \n",
    "        all_edges = list(G.edges())\n",
    "        # print(type(all_edges))\n",
    "        T_prime[tid] = all_edges\n",
    "    \n",
    "    return T_prime\n",
    "\n",
    "def save_sampled_graph_as_pkl(traces_dict, file_name):\n",
    "    with open(file_name+'.pkl', 'wb') as pkl_file:\n",
    "        pickle.dump(traces_dict, pkl_file)\n"
   ]
  },
  {
   "cell_type": "code",
   "execution_count": 66,
   "metadata": {},
   "outputs": [
    {
     "name": "stderr",
     "output_type": "stream",
     "text": [
      "100%|██████████| 490/490 [00:13<00:00, 35.91it/s]\n"
     ]
    }
   ],
   "source": [
    "# Pruning Check\n",
    "def prune_nodes_testy(sampled_tids_inter, sampled_nodes, df):\n",
    "\n",
    "    T_prime = {}\n",
    "    T_original = {}\n",
    "    ctr = 0\n",
    "    for trace in tqdm(sampled_tids_inter):\n",
    "        ctr += 1\n",
    "        tid = trace[0]\n",
    "        nodes_to_remove = []# get list of nodes to remove in trace\n",
    "        tid_calls = extract_traceid_rows(df, tid)\n",
    "        for call in tid_calls:\n",
    "            if call.um not in sampled_nodes:\n",
    "                nodes_to_remove.append(call.um)\n",
    "            if call.dm not in sampled_nodes:\n",
    "                nodes_to_remove.append(call.dm)\n",
    "            t_edges.append([call.um, call.dm])\n",
    "        G = nx.DiGraph()\n",
    "        G.add_edges_from(t_edges)\n",
    "        # G_original = nx.DiGraph()\n",
    "        # G_original.add_edges_from(t_edges)\n",
    "        T_original[tid] = t_edges\n",
    "        nodes_to_remove = list(set(nodes_to_remove))\n",
    "        # print(len(nodes_to_remove))\n",
    "        # Do node pruning\n",
    "        for node in nodes_to_remove:\n",
    "            G = remove_node_with_reconnect(G, node)\n",
    "\n",
    "        # edges in pruned trace \n",
    "        all_edges = list(G.edges())\n",
    "        # print(type(all_edges))\n",
    "        T_prime[tid] = all_edges\n",
    "        # if ctr == 50:\n",
    "        #     break\n",
    "    return T_prime, T_original\n",
    "\n",
    "T_prime, T_original = prune_nodes_testy(sampled_tids_inter, sampled_nodes, df)\n",
    "# print(len(sampled_nodes))\n",
    "# save_sampled_graph_as_pkl(T_prime, 'downsampled_graphs/500nodes_500traces')"
   ]
  },
  {
   "cell_type": "code",
   "execution_count": 68,
   "metadata": {},
   "outputs": [
    {
     "name": "stdout",
     "output_type": "stream",
     "text": [
      "375\n"
     ]
    }
   ],
   "source": [
    "def buildg_from_tracesdict(traces_dict):\n",
    "\n",
    "    full_graph_edge_list = []\n",
    "    for edge_list in traces_dict.values():\n",
    "        full_graph_edge_list.extend(edge_list)\n",
    "    G = nx.DiGraph()\n",
    "    G.add_edges_from(full_graph_edge_list)\n",
    "\n",
    "    return G\n",
    "\n",
    "G_prime = buildg_from_tracesdict(T_prime)\n",
    "G_original = buildg_from_tracesdict(T_original)\n",
    "print(len(G_prime.nodes()))"
   ]
  },
  {
   "cell_type": "code",
   "execution_count": 70,
   "metadata": {},
   "outputs": [
    {
     "name": "stdout",
     "output_type": "stream",
     "text": [
      "490\n"
     ]
    }
   ],
   "source": [
    "print(len(T_prime))"
   ]
  },
  {
   "cell_type": "code",
   "execution_count": 49,
   "metadata": {},
   "outputs": [
    {
     "data": {
      "text/plain": [
       "[<matplotlib.patches.FancyArrowPatch at 0x7f0f2fe25bd0>,\n",
       " <matplotlib.patches.FancyArrowPatch at 0x7f0f2fe274f0>,\n",
       " <matplotlib.patches.FancyArrowPatch at 0x7f0f2fe27190>,\n",
       " <matplotlib.patches.FancyArrowPatch at 0x7f0f2fe27dc0>,\n",
       " <matplotlib.patches.FancyArrowPatch at 0x7f0f2fe27d00>,\n",
       " <matplotlib.patches.FancyArrowPatch at 0x7f0f2fe27fd0>,\n",
       " <matplotlib.patches.FancyArrowPatch at 0x7f0f2fd18490>,\n",
       " <matplotlib.patches.FancyArrowPatch at 0x7f0f2fd186a0>,\n",
       " <matplotlib.patches.FancyArrowPatch at 0x7f0f2fd188b0>,\n",
       " <matplotlib.patches.FancyArrowPatch at 0x7f0f2fd18ac0>]"
      ]
     },
     "execution_count": 49,
     "metadata": {},
     "output_type": "execute_result"
    },
    {
     "data": {
      "image/png": "[encoded data removed]",
      "text/plain": [
       "<Figure size 800x600 with 1 Axes>"
      ]
     },
     "metadata": {},
     "output_type": "display_data"
    }
   ],
   "source": [
    "# plt.figure(figsize=(8, 6))\n",
    "# pos = nx.spring_layout(G)  # positions for all nodes\n",
    "\n",
    "# # Draw nodes\n",
    "# nx.draw_networkx_nodes(G, pos, node_size=700, node_color='skyblue')\n",
    "\n",
    "# # Draw edges\n",
    "# nx.draw_networkx_edges(G, pos, edgelist=G.edges(), arrowstyle='->', arrowsize=20)\n",
    "\n",
    "# len(list(nx.weakly_connected_components(G)))\n"
   ]
  }
 ],
 "metadata": {
  "kernelspec": {
   "display_name": "env",
   "language": "python",
   "name": "python3"
  },
  "language_info": {
   "codemirror_mode": {
    "name": "ipython",
    "version": 3
   },
   "file_extension": ".py",
   "mimetype": "text/x-python",
   "name": "python",
   "nbconvert_exporter": "python",
   "pygments_lexer": "ipython3",
   "version": "3.10.12"
  }
 },
 "nbformat": 4,
 "nbformat_minor": 2
}
