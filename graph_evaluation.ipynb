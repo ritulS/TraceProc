{
 "cells": [
  {
   "cell_type": "code",
   "execution_count": 14,
   "metadata": {},
   "outputs": [],
   "source": [
    "import pickle\n",
    "from tqdm import tqdm\n",
    "import itertools\n",
    "import networkx as nx\n",
    "import matplotlib.pyplot as plt\n",
    "import numpy as np\n",
    "import pandas as pd"
   ]
  },
  {
   "cell_type": "code",
   "execution_count": 15,
   "metadata": {},
   "outputs": [],
   "source": [
    "# Trace builiding code\n",
    "class Trace:\n",
    "    def __init__(self):\n",
    "        self.calls = []\n",
    "\n",
    "class Node_info:\n",
    "    def __init__(self, num_id, n_type):\n",
    "        self.num_id = num_id\n",
    "        self.n_type = n_type\n",
    "\n",
    "class Call:\n",
    "    def __init__(self, traceid, timestamp, rpcid, um, dm, rpctype, interface, rt):\n",
    "        self.traceid = traceid\n",
    "        self.timestamp = timestamp\n",
    "        self.rpcid = rpcid\n",
    "        self.um = um\n",
    "        self.dm = dm \n",
    "        self.rpctype = rpctype\n",
    "        self.interface = interface\n",
    "        self.rt = rt\n",
    "    def string(self):\n",
    "        return self.traceid + \",\" + str(self.timestamp) + \",\" + self.rpcid + \",\" + self.um + \",\" + self.dm + \",\" +\\\n",
    "            self.rpctype + \",\" + self.interface + \",\" + str(self.rt)\n",
    "\n",
    "def csv_to_df(file: str):\n",
    "    use_columns = list(range(9)) \n",
    "    df = pd.read_csv(file,delimiter=',', usecols=use_columns)\n",
    "    return df\n",
    "\n",
    "def extract_traceid_rows(df, tid):\n",
    "    f_df = df[df['traceid'] == tid]\n",
    "    tid_calls = [\n",
    "        Call(\n",
    "            str(row.traceid), \n",
    "            int(row.timestamp), \n",
    "            str(row.rpcid), \n",
    "            str(row.um), \n",
    "            str(row.dm), \n",
    "            str(row.rpctype), \n",
    "            str(row.interface), \n",
    "            int(row.rt)\n",
    "        ) for row in f_df.itertuples(index=False)\n",
    "    ]\n",
    "    return tid_calls\n",
    "\n",
    "def build_digraph_from_df(df, tids_list):\n",
    "    '''\n",
    "    Builds digraph. \n",
    "    Args: df= list of trace rows, list of tids to build and add\n",
    "    Returns: A full di graph with tids given.\n",
    "    '''\n",
    "    t_edges = []\n",
    "    for tid in tqdm(tids_list):\n",
    "        tid_calls = extract_traceid_rows(df, tid)\n",
    "         # list of edges of trace\n",
    "        for call in tid_calls:\n",
    "            t_edges.append((call.um, call.dm))\n",
    "    G = nx.DiGraph()\n",
    "    G.add_edges_from(t_edges)\n",
    "    return G\n",
    "\n",
    "def build_digraph_from_tracesdict(traces_dict):\n",
    "\n",
    "    full_graph_edge_list = []\n",
    "    for edge_list in traces_dict.values():\n",
    "        full_graph_edge_list.extend(edge_list)\n",
    "    G = nx.DiGraph()\n",
    "    G.add_edges_from(full_graph_edge_list)\n",
    "\n",
    "    return G"
   ]
  },
  {
   "cell_type": "code",
   "execution_count": 16,
   "metadata": {},
   "outputs": [
    {
     "name": "stdout",
     "output_type": "stream",
     "text": [
      "Num of tids:  10421\n"
     ]
    },
    {
     "name": "stderr",
     "output_type": "stream",
     "text": [
      "100%|██████████| 10421/10421 [02:54<00:00, 59.57it/s]\n"
     ]
    },
    {
     "name": "stdout",
     "output_type": "stream",
     "text": [
      "Number of nodes: 3656\n"
     ]
    }
   ],
   "source": [
    "'''\n",
    "Read & Build Original Graph\n",
    "'''\n",
    "df = csv_to_df(\"./casper_rebuild.csv\")\n",
    "\n",
    "# Extract all tids\n",
    "tids_list = df['traceid'].unique()\n",
    "num_traces = len(tids_list)\n",
    "print(\"Num of tids: \", num_traces)\n",
    "\n",
    "# Building the full original digraph\n",
    "G_original = build_digraph_from_df(df, tids_list)\n",
    "print(\"Number of nodes:\", G_original.number_of_nodes())\n",
    "# print(\"Number of edges:\", G_original.number_of_edges())"
   ]
  },
  {
   "cell_type": "code",
   "execution_count": 25,
   "metadata": {},
   "outputs": [
    {
     "name": "stdout",
     "output_type": "stream",
     "text": [
      "Number of nodes: 484\n",
      "Number of nodes: 249\n"
     ]
    }
   ],
   "source": [
    "'''\n",
    "Read & Build Sampled graphs\n",
    "'''\n",
    "\n",
    "def pkl_to_dict(file_path):\n",
    "    with open(file_path, 'rb') as pkl_file:\n",
    "        T_prime = pickle.load(pkl_file)\n",
    "    return T_prime\n",
    "\n",
    "def pkl_to_graph(exp_name):\n",
    "    file_path = 'downsampled_graphs/' + exp_name + '.pkl'\n",
    "    T_prime = pkl_to_dict(file_path)\n",
    "    sampled_G = build_digraph_from_tracesdict(T_prime)\n",
    "\n",
    "    return sampled_G\n",
    "\n",
    "\n",
    "T_prime_500n_5000t = pkl_to_dict('downsampled_graphs/500nodes_5000traces.pkl')\n",
    "T_prime_250n_5000t = pkl_to_dict('downsampled_graphs/250nodes_5000traces.pkl')\n",
    "\n",
    "# Building the sampled original digraph\n",
    "G_sampled_500 = build_digraph_from_tracesdict(T_prime_500n_5000t)\n",
    "G_sampled_250 = build_digraph_from_tracesdict(T_prime_250n_5000t)\n",
    "print(\"Number of nodes:\", G_sampled_500.number_of_nodes())\n",
    "print(\"Number of nodes:\", G_sampled_250.number_of_nodes())"
   ]
  },
  {
   "cell_type": "code",
   "execution_count": null,
   "metadata": {},
   "outputs": [],
   "source": [
    "def plot_cdf(data, label):\n",
    "    x_vals = np.sort(data)\n",
    "    y_vals = np.arange(len(data))/float(len(data))\n",
    "    plt.plot(x_vals, y_vals, label=label)\n"
   ]
  },
  {
   "cell_type": "code",
   "execution_count": 33,
   "metadata": {},
   "outputs": [],
   "source": [
    "'''\n",
    "Graph Similarity Metrics\n",
    "In & Out degree distribution\n",
    "'''\n",
    "\n",
    "def deg_dist_viz(Gs_and_labels, in_or_out):\n",
    "    '''\n",
    "    Generates a CDF graph for in/out deg dist of graphs\n",
    "    Args: Gs_and_label= [[G, label], [], ...],\n",
    "          in_or_out= 'in' or 'out'\n",
    "    '''\n",
    "    for G, label in Gs_and_labels:\n",
    "        if in_or_out == 'in':\n",
    "            degrees = G.in_degree(G.nodes())\n",
    "        elif in_or_out == 'out':\n",
    "            degrees = G.out_degree(G.nodes())\n",
    "        deg_dist = [tup[1] for tup in list(degrees)]\n",
    "        x_vals = np.sort(deg_dist)\n",
    "        y_vals = np.arange(len(deg_dist))/float(len(deg_dist))\n",
    "        plt.plot(x_vals, y_vals, label=label)\n",
    "    if in_or_out == \"in\":\n",
    "        plt.xlabel('In-degree')\n",
    "    elif in_or_out == \"out\":\n",
    "        plt.xlabel('Out-degree')\n",
    "    plt.xscale('log')\n",
    "    plt.ylabel('CDF')\n",
    "    plt.legend()\n",
    "    plt.tight_layout()\n",
    "    # plt.show()\n",
    "\n",
    "    plt.savefig('figs/outdeg_dist_500n_variedt.png')\n",
    "    plt.close()\n",
    "# Kolmogrov D Statistic"
   ]
  },
  {
   "cell_type": "code",
   "execution_count": 23,
   "metadata": {},
   "outputs": [],
   "source": [
    "Gs_and_labels = [[G_original, 'Original Graph(3655n:10421t)'],[G_sampled_500, 'Sampled Graph(500n:5000t)'], \\\n",
    "                 [G_sampled_250, 'Sampled Graph(250n:5000t)']]\n",
    "# deg_dist_viz(Gs_and_labels, 'in')\n",
    "deg_dist_viz(Gs_and_labels, 'out')"
   ]
  },
  {
   "cell_type": "code",
   "execution_count": 34,
   "metadata": {},
   "outputs": [],
   "source": [
    "# Comparing impact of t' on in/out deg distributions\n",
    "G_500n_5000t = pkl_to_graph('500nodes_5000traces')\n",
    "G_500n_2500t = pkl_to_graph('500nodes_2500traces')\n",
    "G_500n_1250t = pkl_to_graph('500nodes_1250traces')\n",
    "\n",
    "Gs_and_labels = [[G_original, 'Original Graph(3655n:10421t)'],[G_500n_5000t, 'Sampled Graph(500n:5000t)'], \\\n",
    "                 [G_500n_2500t, 'Sampled Graph(500n:2500t)'], [G_500n_1250t, 'Sampled Graph(500n:1250t)']]\n",
    "\n",
    "# deg_dist_viz(Gs_and_labels, 'in')\n",
    "deg_dist_viz(Gs_and_labels, 'out')"
   ]
  },
  {
   "cell_type": "code",
   "execution_count": null,
   "metadata": {},
   "outputs": [],
   "source": [
    "'''\n",
    "Call depth percentage distribution\n",
    "'''"
   ]
  },
  {
   "cell_type": "code",
   "execution_count": null,
   "metadata": {},
   "outputs": [],
   "source": [
    "'''\n",
    "Loss of Edges\n",
    "Baseline: Original Graph\n",
    "For a fixed n nodes, we get number of edges lost for\n",
    "different t' values. X:t', Y:num of edges\n",
    "'''\n",
    "\n",
    "def calc_number_of_edges(Gs_list):\n",
    "    '''\n",
    "    Args: Gs_list=[[G, num traces], [],..]\n",
    "    '''\n",
    "    traces_count_list = [x[1] for x in Gs_list]\n",
    "    edges_count_list = [x[0].number_of_edges() for x in Gs_list]\n",
    "    plt.figure(figsize=(10, 6))\n",
    "    plt.scatter(traces_count_list, edges_count_list, c='blue', marker='o')\n",
    "    plt.title('Number of Edges vs Number of traces')\n",
    "    plt.xlabel('Num Traces')\n",
    "    plt.ylabel('Num Edges')\n",
    "    plt.grid(True)\n",
    "    plt.show()\n",
    "\n",
    "Gs_list = [[G_sampled_500, 5000], \\\n",
    "                 [G_sampled_250, 5000]]\n"
   ]
  },
  {
   "cell_type": "code",
   "execution_count": null,
   "metadata": {},
   "outputs": [],
   "source": [
    "'''\n",
    "Sfsl ratio\n",
    "'''"
   ]
  },
  {
   "cell_type": "code",
   "execution_count": null,
   "metadata": {},
   "outputs": [],
   "source": [
    "'''\n",
    "Graph Kernel Similarity Score\n",
    "'''"
   ]
  }
 ],
 "metadata": {
  "kernelspec": {
   "display_name": "env",
   "language": "python",
   "name": "python3"
  },
  "language_info": {
   "codemirror_mode": {
    "name": "ipython",
    "version": 3
   },
   "file_extension": ".py",
   "mimetype": "text/x-python",
   "name": "python",
   "nbconvert_exporter": "python",
   "pygments_lexer": "ipython3",
   "version": "3.10.12"
  }
 },
 "nbformat": 4,
 "nbformat_minor": 2
}
