{
 "cells": [
  {
   "cell_type": "code",
   "execution_count": 1,
   "metadata": {},
   "outputs": [],
   "source": [
    "import networkx as nx\n",
    "import matplotlib.pyplot as plt"
   ]
  },
  {
   "cell_type": "code",
   "execution_count": 9,
   "metadata": {},
   "outputs": [
    {
     "name": "stdout",
     "output_type": "stream",
     "text": [
      "<class 'tuple'>\n",
      "[(1, 2), (2, 1), (3, 1), (4, 2)]\n"
     ]
    }
   ],
   "source": [
    "'''\n",
    "Graph Similarity Metrics\n",
    "In & Out degree distribution\n",
    "'''\n",
    "G = nx.DiGraph()\n",
    "\n",
    "# Add edges to the graph\n",
    "G.add_edges_from([(1, 2), (2, 3), (3, 4), (4, 1), (2, 4), (3, 1)])\n",
    "\n",
    "# in-degree and out-degree for each node\n",
    "in_degrees = G.in_degree()\n",
    "out_degrees = G.out_degree()\n",
    "\n",
    "in_deg_dist = [tup[1] for tup in list(in_degrees)]\n",
    "out_deg_dist = [tup[1] for tup in list(out_degrees)]\n",
    "\n",
    "# Kolmogrov D Statistic"
   ]
  },
  {
   "cell_type": "code",
   "execution_count": null,
   "metadata": {},
   "outputs": [],
   "source": [
    "'''\n",
    "Graph Kernel Similarity Score\n",
    "'''"
   ]
  },
  {
   "cell_type": "code",
   "execution_count": null,
   "metadata": {},
   "outputs": [],
   "source": [
    "'''\n",
    "Loss of Edges\n",
    "'''"
   ]
  }
 ],
 "metadata": {
  "kernelspec": {
   "display_name": "env",
   "language": "python",
   "name": "python3"
  },
  "language_info": {
   "codemirror_mode": {
    "name": "ipython",
    "version": 3
   },
   "file_extension": ".py",
   "mimetype": "text/x-python",
   "name": "python",
   "nbconvert_exporter": "python",
   "pygments_lexer": "ipython3",
   "version": "3.10.12"
  }
 },
 "nbformat": 4,
 "nbformat_minor": 2
}
