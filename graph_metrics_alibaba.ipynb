{
 "cells": [
  {
   "cell_type": "code",
   "execution_count": 7,
   "metadata": {},
   "outputs": [],
   "source": [
    "import pandas as pd\n",
    "import networkx as nx\n",
    "import matplotlib.pyplot as plt\n",
    "\n",
    "from tqdm import tqdm\n",
    "from networkx.algorithms.similarity import optimize_graph_edit_distance"
   ]
  },
  {
   "cell_type": "code",
   "execution_count": 2,
   "metadata": {},
   "outputs": [],
   "source": [
    "# Trace builiding code\n",
    "class Trace:\n",
    "    def __init__(self):\n",
    "        self.calls = []\n",
    "\n",
    "class Node_info:\n",
    "    def __init__(self, num_id, n_type):\n",
    "        self.num_id = num_id\n",
    "        self.n_type = n_type\n",
    "\n",
    "class Call:\n",
    "    def __init__(self, traceid, timestamp, rpcid, um, dm, rpctype, interface, rt):\n",
    "        self.traceid = traceid\n",
    "        self.timestamp = timestamp\n",
    "        self.rpcid = rpcid\n",
    "        self.um = um\n",
    "        self.dm = dm \n",
    "        self.rpctype = rpctype\n",
    "        self.interface = interface\n",
    "        self.rt = rt\n",
    "    def string(self):\n",
    "        return self.traceid + \",\" + str(self.timestamp) + \",\" + self.rpcid + \",\" + self.um + \",\" + self.dm + \",\" +\\\n",
    "            self.rpctype + \",\" + self.interface + \",\" + str(self.rt)\n",
    "\n",
    "def csv_to_df(file: str):\n",
    "    df = pd.read_csv(file)\n",
    "    return df\n",
    "\n",
    "def extract_traceid_rows(df, tid):\n",
    "    f_df = df[df['traceid'] == tid]\n",
    "    tid_calls = [\n",
    "        Call(\n",
    "            str(row.traceid), \n",
    "            int(row.timestamp), \n",
    "            str(row.rpcid), \n",
    "            str(row.um), \n",
    "            str(row.dm), \n",
    "            str(row.rpctype), \n",
    "            str(row.interface), \n",
    "            int(row.rt)\n",
    "        ) for row in f_df.itertuples(index=False)\n",
    "    ]\n",
    "    return tid_calls\n",
    "\n"
   ]
  },
  {
   "cell_type": "code",
   "execution_count": 8,
   "metadata": {},
   "outputs": [],
   "source": [
    "'''\n",
    "Metrics Extraction functions\n",
    "'''\n",
    "\n",
    "def get_call_depth(rpc_id):\n",
    "    if rpc_id == \"0\":\n",
    "        return 1\n",
    "    else:\n",
    "        call_depth = 0\n",
    "        for i in rpc_id:\n",
    "            if i == \".\":\n",
    "                call_depth += 1\n",
    "    return call_depth\n",
    "\n",
    "\n",
    "def gen_base_graph(n):\n",
    "    '''\n",
    "    Returns a base graph of depth n\n",
    "    '''\n",
    "    edges = [(i, i+1) for i in range(n-1)]\n",
    "    G = nx.DiGraph(edges)\n",
    "    return G\n",
    "\n",
    "def plot_graph_simple(graph, filename):\n",
    "\n",
    "  plt.figure(figsize=(8, 6))  # Adjust figure size as needed\n",
    "  pos = nx.spring_layout(graph)\n",
    "  nx.draw(graph, pos, with_labels=False, node_color='lightblue', edge_color='black')\n",
    "  # plt.title(\"Graph\")\n",
    "  # plt.xlabel(\"X-axis\")\n",
    "  # plt.ylabel(\"Y-axis\")\n",
    "\n",
    "  plt.savefig(filename, dpi=300, bbox_inches='tight')  # Save image with high quality\n",
    "  plt.close() \n",
    "\n",
    "def build_digraph(df, tids_list):\n",
    "    '''\n",
    "    Builds digraph. \n",
    "    Args: df= list of trace rows, list of tids to build and add\n",
    "    Returns: A full di graph with tids given.\n",
    "    '''\n",
    "    for i in range(len(tids_list)):\n",
    "        tid_calls = extract_traceid_rows(df, tids_list[i])\n",
    "        t_edges = [] # list of edges of trace\n",
    "        for call in tid_calls:\n",
    "            t_edges.append([call.um, call.dm])\n",
    "    G = nx.DiGraph()\n",
    "    G.add_edges_from(t_edges)\n",
    "    return G\n",
    "    "
   ]
  },
  {
   "cell_type": "code",
   "execution_count": 4,
   "metadata": {},
   "outputs": [
    {
     "name": "stdout",
     "output_type": "stream",
     "text": [
      "Num of tids:  130512\n"
     ]
    }
   ],
   "source": [
    "# types :  ['userDefined', 'db', 'http', 'mq', 'rpc', 'mc']\n",
    "# Extract to dataframe\n",
    "df = csv_to_df(\"./MSCallGraph_0.csv\")\n",
    "\n",
    "# Extract all tids\n",
    "tids_list = df['traceid'].unique()\n",
    "print(\"Num of tids: \", len(tids_list))"
   ]
  },
  {
   "cell_type": "code",
   "execution_count": 18,
   "metadata": {},
   "outputs": [
    {
     "name": "stderr",
     "output_type": "stream",
     "text": [
      "  0%|          | 0/130512 [00:00<?, ?it/s]"
     ]
    },
    {
     "name": "stderr",
     "output_type": "stream",
     "text": [
      "  0%|          | 4/130512 [00:35<318:52:26,  8.80s/it] "
     ]
    },
    {
     "name": "stdout",
     "output_type": "stream",
     "text": [
      "{'0b133c1915919238193454000e5d37': [14, '', 1, 539, 59.0], '0b1339ef15919237750706000eded3': [13, '0b1339ef15919237750706000eded3', 1, 181, 88.0], '0b11355e15919238739898000e4315': [12, '0b11355e15919238739898000e4315', 1, 164, 79.0], '0b133c0e15919237695864000e207d': [5, '', 0, 16, 16.0], '0b133c0e15919236640847000e1f94': [3, '', 0, 4, 16.0]}\n"
     ]
    },
    {
     "name": "stderr",
     "output_type": "stream",
     "text": [
      "\n"
     ]
    }
   ],
   "source": [
    "'''\n",
    "Metrics collected: trace_depth, initial_node, sf_count, sl_count, ged\n",
    "'''\n",
    "\n",
    "ctr = 0\n",
    "trace_met_dict = {}\n",
    "for i in tqdm(range(len(tids_list))):\n",
    "    ctr += 1\n",
    "    # if i in [0,1,2]:\n",
    "    #     continue\n",
    "    tid_calls = extract_traceid_rows(df, tids_list[i])\n",
    "    initial_node = \"\"\n",
    "    t_edges = [] # list of edges of trace\n",
    "    t_sf_ctr = 0\n",
    "    t_sl_ctr = 0\n",
    "    trace_depth = 0\n",
    "    for call in tid_calls:\n",
    "        t_edges.append([call.um, call.dm])\n",
    "        call_depth = get_call_depth(call.rpcid)\n",
    "        if call_depth > trace_depth: # update trace depth\n",
    "            trace_depth = call_depth\n",
    "        if call.rpcid == \"0\": # get initial node of trace\n",
    "            initial_node = tids_list[i]\n",
    "        if call.rpctype == \"db\": # get sf sl node count\n",
    "            t_sf_ctr += 1\n",
    "        else: \n",
    "            t_sl_ctr += 1\n",
    "    \n",
    "    G = nx.DiGraph()\n",
    "    G.add_edges_from(t_edges) # build trace graph\n",
    "    # plot_graph_simple(G, 'main_graph.png')\n",
    "    G_base = gen_base_graph(trace_depth)\n",
    "    # plot_graph_simple(G_base, 'base_graph.png') \n",
    "    # Exit ged in 3 iters\n",
    "    max_ged_iter = 2\n",
    "    for j, distance in enumerate(optimize_graph_edit_distance(G, G_base)):\n",
    "        if j >= max_ged_iter:\n",
    "            ged = distance\n",
    "            break\n",
    "    trace_met_dict[tids_list[i]] = [trace_depth, initial_node, t_sf_ctr, t_sl_ctr, ged]\n",
    "    # print(trace_met_dict)\n",
    "    if ctr == 5:\n",
    "        break\n",
    "\n",
    "print(trace_met_dict)\n",
    "    \n",
    "        "
   ]
  },
  {
   "cell_type": "code",
   "execution_count": null,
   "metadata": {},
   "outputs": [],
   "source": [
    "# Check\n"
   ]
  }
 ],
 "metadata": {
  "kernelspec": {
   "display_name": "env",
   "language": "python",
   "name": "python3"
  },
  "language_info": {
   "codemirror_mode": {
    "name": "ipython",
    "version": 3
   },
   "file_extension": ".py",
   "mimetype": "text/x-python",
   "name": "python",
   "nbconvert_exporter": "python",
   "pygments_lexer": "ipython3",
   "version": "3.10.12"
  }
 },
 "nbformat": 4,
 "nbformat_minor": 2
}
